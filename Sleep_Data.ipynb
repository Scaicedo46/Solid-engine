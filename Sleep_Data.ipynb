{
  "nbformat": 4,
  "nbformat_minor": 0,
  "metadata": {
    "colab": {
      "name": "Sleep_Data.ipynb",
      "provenance": [],
      "collapsed_sections": [
        "ouSw-hP2ijKw",
        "Nx8LEi1GcRdg",
        "v87qjUg50l2K",
        "v1BYHd8BIzkv",
        "CpCdQ9jwWv1C",
        "QIRI5Qdqj6C5",
        "qpbzL5Wpf2k6",
        "jnDvIzWF-35G",
        "BUWjc5_uf_ZV",
        "0QUvYckqgjnU",
        "LiahThWlawdj",
        "HkDyOThaiwUM"
      ],
      "mount_file_id": "1C1ol7l6K6o38oIMsyFS5uW5c8pEaXAWL",
      "authorship_tag": "ABX9TyOZgShUvw++jXkiNeHuAWc5",
      "include_colab_link": true
    },
    "kernelspec": {
      "name": "python3",
      "display_name": "Python 3"
    }
  },
  "cells": [
    {
      "cell_type": "markdown",
      "metadata": {
        "id": "view-in-github",
        "colab_type": "text"
      },
      "source": [
        "<a href=\"https://colab.research.google.com/github/Scaicedo46/Solid-engine/blob/master/Sleep_Data.ipynb\" target=\"_parent\"><img src=\"https://colab.research.google.com/assets/colab-badge.svg\" alt=\"Open In Colab\"/></a>"
      ]
    },
    {
      "cell_type": "markdown",
      "metadata": {
        "id": "W_Sp3TTo3Wco",
        "colab_type": "text"
      },
      "source": [
        "# Analyzing Sleep Data Using Various Clustering Methods"
      ]
    },
    {
      "cell_type": "markdown",
      "metadata": {
        "id": "HwjgNN8s3cF8",
        "colab_type": "text"
      },
      "source": [
        "In this project I will be using clustering to gain insight on how sleep data subjects fall into groups. The dataframe is made of subjects that took part in a sleep study using caps that provided soundwaves to assist with sleeping. Over the course of approximately 31 days subjects patterns of sleep were recorded and surveys were taken describing their sleep."
      ]
    },
    {
      "cell_type": "markdown",
      "metadata": {
        "id": "ch64AihYNk1k",
        "colab_type": "text"
      },
      "source": [
        "## Importing Main DF"
      ]
    },
    {
      "cell_type": "markdown",
      "metadata": {
        "id": "sxXrDVA62KpT",
        "colab_type": "text"
      },
      "source": [
        "First after importing the data, I placed the initial excel file into pickle files since it had over 125 sheets. It allows for faster loading times of individual sheets!"
      ]
    },
    {
      "cell_type": "code",
      "metadata": {
        "id": "ECLseZFjwWJ_",
        "colab_type": "code",
        "outputId": "32364a8a-d7d2-4b17-8d63-8adcb4a9fb89",
        "colab": {
          "base_uri": "https://localhost:8080/",
          "height": 69
        }
      },
      "source": [
        "import numpy as np\n",
        "import pandas as pd\n",
        "import seaborn as sns\n",
        "import math\n",
        "import matplotlib.pyplot as plt \n",
        "import openpyxl\n",
        "import pickle"
      ],
      "execution_count": 0,
      "outputs": [
        {
          "output_type": "stream",
          "text": [
            "/usr/local/lib/python3.6/dist-packages/statsmodels/tools/_testing.py:19: FutureWarning: pandas.util.testing is deprecated. Use the functions in the public API at pandas.testing instead.\n",
            "  import pandas.util.testing as tm\n"
          ],
          "name": "stderr"
        }
      ]
    },
    {
      "cell_type": "code",
      "metadata": {
        "colab_type": "code",
        "outputId": "89581ffe-74b3-45bf-ed04-ef50fb695ba0",
        "id": "DceODE8AnXZh",
        "colab": {
          "base_uri": "https://localhost:8080/",
          "height": 374
        }
      },
      "source": [
        "dict_XL = pickle.load(open( \"/content/drive/My Drive/Colab Notebooks/pickles/dictSave_0.p\", \"rb\" ))\n",
        "main_df  = pd.DataFrame.from_dict(dict_XL)\n",
        "header = main_df.iloc[0]\n",
        "main_df = main_df[1:] \n",
        "main_df.columns = header\n",
        "main_df.head(3)"
      ],
      "execution_count": 0,
      "outputs": [
        {
          "output_type": "execute_result",
          "data": {
            "text/html": [
              "<div>\n",
              "<style scoped>\n",
              "    .dataframe tbody tr th:only-of-type {\n",
              "        vertical-align: middle;\n",
              "    }\n",
              "\n",
              "    .dataframe tbody tr th {\n",
              "        vertical-align: top;\n",
              "    }\n",
              "\n",
              "    .dataframe thead th {\n",
              "        text-align: right;\n",
              "    }\n",
              "</style>\n",
              "<table border=\"1\" class=\"dataframe\">\n",
              "  <thead>\n",
              "    <tr style=\"text-align: right;\">\n",
              "      <th></th>\n",
              "      <th>ID</th>\n",
              "      <th>Change in sleep quality—PSQI</th>\n",
              "      <th>NaN</th>\n",
              "      <th>Epworth sleep quality—average first 4 Epworths</th>\n",
              "      <th>Groningen sleep quality—average first 4 Groningens</th>\n",
              "      <th>PSQI sleep quality—beginning</th>\n",
              "      <th>Both PSQI surveys completed</th>\n",
              "      <th>Number of nights of SSB data (excluding first 4 nights)</th>\n",
              "      <th>SSB data—first 4 nights</th>\n",
              "      <th>Number of self-reported nights of sleep (excluding first 4 nights)</th>\n",
              "      <th>Self-reported SSB uses—first 4 days</th>\n",
              "      <th>SSB nights of data TOTAL</th>\n",
              "      <th>SSB nights of data</th>\n",
              "      <th>Self-reported SSB use TOTAL</th>\n",
              "      <th>Number of self-reported SSB uses</th>\n",
              "      <th>ID</th>\n",
              "      <th>Age</th>\n",
              "      <th>Gender</th>\n",
              "      <th>OS</th>\n",
              "      <th>Beginning PSQI Total</th>\n",
              "      <th>Ending PSQI Total</th>\n",
              "      <th>Survey Day</th>\n",
              "      <th>Raw Sleep Id</th>\n",
              "      <th>Time To Bed</th>\n",
              "      <th>Time Awake</th>\n",
              "      <th>Sleep Duration</th>\n",
              "      <th>Self-Reported Sleep Quality Rating (entered into app)</th>\n",
              "      <th>Sleep Score (calculated by SSB app)</th>\n",
              "      <th>Did you wear SSB? (self, not app, reported)</th>\n",
              "      <th>Epworth</th>\n",
              "      <th>Groningen</th>\n",
              "      <th>Duration of sleep begin</th>\n",
              "      <th>Sleep disturbance begin</th>\n",
              "      <th>Sleep latency begin</th>\n",
              "      <th>Day dysfunction due to sleepiness begin</th>\n",
              "      <th>Sleep efficiency begin</th>\n",
              "      <th>Overall sleep quality begin</th>\n",
              "      <th>Need medication to sleep begin</th>\n",
              "      <th>Duration of sleep end</th>\n",
              "      <th>Sleep disturbance end</th>\n",
              "      <th>Sleep latency end</th>\n",
              "      <th>Day dysfunction due to sleepiness end</th>\n",
              "      <th>Sleep efficiency end</th>\n",
              "      <th>Overall sleep quality end</th>\n",
              "      <th>Need medication to sleep end</th>\n",
              "      <th>Day Shift or Night Shift?</th>\n",
              "      <th>Epworth slope</th>\n",
              "      <th>Groningen slope</th>\n",
              "      <th>Epworth slope (people with first 4 Epworth average &gt; 10)</th>\n",
              "      <th>Groningen slope (people with first 4 Groningen average &gt; 5)</th>\n",
              "    </tr>\n",
              "  </thead>\n",
              "  <tbody>\n",
              "    <tr>\n",
              "      <th>1</th>\n",
              "      <td>2417</td>\n",
              "      <td>no ending score</td>\n",
              "      <td>NaN</td>\n",
              "      <td>5</td>\n",
              "      <td>2.5</td>\n",
              "      <td>poor sleeper</td>\n",
              "      <td>no</td>\n",
              "      <td>NaN</td>\n",
              "      <td>1</td>\n",
              "      <td>NaN</td>\n",
              "      <td>1</td>\n",
              "      <td>NaN</td>\n",
              "      <td>1</td>\n",
              "      <td>NaN</td>\n",
              "      <td>1</td>\n",
              "      <td>2417</td>\n",
              "      <td>35 to 44</td>\n",
              "      <td>Female</td>\n",
              "      <td>Android</td>\n",
              "      <td>7</td>\n",
              "      <td>NaN</td>\n",
              "      <td>DAY 1</td>\n",
              "      <td>66323</td>\n",
              "      <td>2/12/2019 6:03:09 PM</td>\n",
              "      <td>2/12/2019 9:20:39 PM</td>\n",
              "      <td>3.29</td>\n",
              "      <td>3</td>\n",
              "      <td>49</td>\n",
              "      <td>Yes</td>\n",
              "      <td>5</td>\n",
              "      <td>3</td>\n",
              "      <td>2</td>\n",
              "      <td>1</td>\n",
              "      <td>0</td>\n",
              "      <td>0</td>\n",
              "      <td>3</td>\n",
              "      <td>1</td>\n",
              "      <td>0</td>\n",
              "      <td>NaN</td>\n",
              "      <td>NaN</td>\n",
              "      <td>NaN</td>\n",
              "      <td>NaN</td>\n",
              "      <td>NaN</td>\n",
              "      <td>NaN</td>\n",
              "      <td>NaN</td>\n",
              "      <td>Night Shift</td>\n",
              "      <td>-0.0217</td>\n",
              "      <td>0.0029</td>\n",
              "      <td>NaN</td>\n",
              "      <td>NaN</td>\n",
              "    </tr>\n",
              "    <tr>\n",
              "      <th>2</th>\n",
              "      <td>2417</td>\n",
              "      <td>NaN</td>\n",
              "      <td>NaN</td>\n",
              "      <td>NaN</td>\n",
              "      <td>NaN</td>\n",
              "      <td>NaN</td>\n",
              "      <td>NaN</td>\n",
              "      <td>NaN</td>\n",
              "      <td>1</td>\n",
              "      <td>NaN</td>\n",
              "      <td>1</td>\n",
              "      <td>NaN</td>\n",
              "      <td>1</td>\n",
              "      <td>NaN</td>\n",
              "      <td>1</td>\n",
              "      <td>2417</td>\n",
              "      <td>35 to 44</td>\n",
              "      <td>Female</td>\n",
              "      <td>Android</td>\n",
              "      <td>7</td>\n",
              "      <td>NaN</td>\n",
              "      <td>DAY 2</td>\n",
              "      <td>66539</td>\n",
              "      <td>2/13/2019 6:23:32 PM</td>\n",
              "      <td>2/13/2019 9:20:47 PM</td>\n",
              "      <td>2.95</td>\n",
              "      <td>3</td>\n",
              "      <td>49</td>\n",
              "      <td>Yes</td>\n",
              "      <td>5</td>\n",
              "      <td>5</td>\n",
              "      <td>NaN</td>\n",
              "      <td>NaN</td>\n",
              "      <td>NaN</td>\n",
              "      <td>NaN</td>\n",
              "      <td>NaN</td>\n",
              "      <td>NaN</td>\n",
              "      <td>NaN</td>\n",
              "      <td>NaN</td>\n",
              "      <td>NaN</td>\n",
              "      <td>NaN</td>\n",
              "      <td>NaN</td>\n",
              "      <td>NaN</td>\n",
              "      <td>NaN</td>\n",
              "      <td>NaN</td>\n",
              "      <td>Night Shift</td>\n",
              "      <td>NaN</td>\n",
              "      <td>NaN</td>\n",
              "      <td>NaN</td>\n",
              "      <td>NaN</td>\n",
              "    </tr>\n",
              "    <tr>\n",
              "      <th>3</th>\n",
              "      <td>2417</td>\n",
              "      <td>NaN</td>\n",
              "      <td>NaN</td>\n",
              "      <td>NaN</td>\n",
              "      <td>NaN</td>\n",
              "      <td>NaN</td>\n",
              "      <td>NaN</td>\n",
              "      <td>NaN</td>\n",
              "      <td>1</td>\n",
              "      <td>NaN</td>\n",
              "      <td>1</td>\n",
              "      <td>NaN</td>\n",
              "      <td>1</td>\n",
              "      <td>NaN</td>\n",
              "      <td>1</td>\n",
              "      <td>2417</td>\n",
              "      <td>35 to 44</td>\n",
              "      <td>Female</td>\n",
              "      <td>Android</td>\n",
              "      <td>7</td>\n",
              "      <td>NaN</td>\n",
              "      <td>DAY 3</td>\n",
              "      <td>66816</td>\n",
              "      <td>2/14/2019 6:12:23 PM</td>\n",
              "      <td>2/14/2019 10:22:53 PM</td>\n",
              "      <td>4.18</td>\n",
              "      <td>3</td>\n",
              "      <td>NaN</td>\n",
              "      <td>Yes</td>\n",
              "      <td>5</td>\n",
              "      <td>1</td>\n",
              "      <td>NaN</td>\n",
              "      <td>NaN</td>\n",
              "      <td>NaN</td>\n",
              "      <td>NaN</td>\n",
              "      <td>NaN</td>\n",
              "      <td>NaN</td>\n",
              "      <td>NaN</td>\n",
              "      <td>NaN</td>\n",
              "      <td>NaN</td>\n",
              "      <td>NaN</td>\n",
              "      <td>NaN</td>\n",
              "      <td>NaN</td>\n",
              "      <td>NaN</td>\n",
              "      <td>NaN</td>\n",
              "      <td>Night Shift</td>\n",
              "      <td>NaN</td>\n",
              "      <td>NaN</td>\n",
              "      <td>NaN</td>\n",
              "      <td>NaN</td>\n",
              "    </tr>\n",
              "  </tbody>\n",
              "</table>\n",
              "</div>"
            ],
            "text/plain": [
              "0    ID  ... Groningen slope (people with first 4 Groningen average > 5)\n",
              "1  2417  ...                                                NaN         \n",
              "2  2417  ...                                                NaN         \n",
              "3  2417  ...                                                NaN         \n",
              "\n",
              "[3 rows x 50 columns]"
            ]
          },
          "metadata": {
            "tags": []
          },
          "execution_count": 2
        }
      ]
    },
    {
      "cell_type": "markdown",
      "metadata": {
        "id": "MwGuguCt2pc7",
        "colab_type": "text"
      },
      "source": [
        "Looking my dataframe it has duplicate 'ID' columns so I am going to remove one to prevent confusion later on."
      ]
    },
    {
      "cell_type": "code",
      "metadata": {
        "id": "eSH9lzh_h4SL",
        "colab_type": "code",
        "outputId": "f607580b-3f19-4a7b-c098-dbacb57eb98d",
        "colab": {
          "base_uri": "https://localhost:8080/",
          "height": 451
        }
      },
      "source": [
        "main_df = main_df.loc[:,~main_df.columns.duplicated()]\n",
        "print('Number of duplicated columns',':',main_df.columns.duplicated().any().sum())\n",
        "main_df.head()"
      ],
      "execution_count": 0,
      "outputs": [
        {
          "output_type": "stream",
          "text": [
            "Number of duplicated columns : 0\n"
          ],
          "name": "stdout"
        },
        {
          "output_type": "execute_result",
          "data": {
            "text/html": [
              "<div>\n",
              "<style scoped>\n",
              "    .dataframe tbody tr th:only-of-type {\n",
              "        vertical-align: middle;\n",
              "    }\n",
              "\n",
              "    .dataframe tbody tr th {\n",
              "        vertical-align: top;\n",
              "    }\n",
              "\n",
              "    .dataframe thead th {\n",
              "        text-align: right;\n",
              "    }\n",
              "</style>\n",
              "<table border=\"1\" class=\"dataframe\">\n",
              "  <thead>\n",
              "    <tr style=\"text-align: right;\">\n",
              "      <th></th>\n",
              "      <th>ID</th>\n",
              "      <th>Change in sleep quality—PSQI</th>\n",
              "      <th>NaN</th>\n",
              "      <th>Epworth sleep quality—average first 4 Epworths</th>\n",
              "      <th>Groningen sleep quality—average first 4 Groningens</th>\n",
              "      <th>PSQI sleep quality—beginning</th>\n",
              "      <th>Both PSQI surveys completed</th>\n",
              "      <th>Number of nights of SSB data (excluding first 4 nights)</th>\n",
              "      <th>SSB data—first 4 nights</th>\n",
              "      <th>Number of self-reported nights of sleep (excluding first 4 nights)</th>\n",
              "      <th>Self-reported SSB uses—first 4 days</th>\n",
              "      <th>SSB nights of data TOTAL</th>\n",
              "      <th>SSB nights of data</th>\n",
              "      <th>Self-reported SSB use TOTAL</th>\n",
              "      <th>Number of self-reported SSB uses</th>\n",
              "      <th>Age</th>\n",
              "      <th>Gender</th>\n",
              "      <th>OS</th>\n",
              "      <th>Beginning PSQI Total</th>\n",
              "      <th>Ending PSQI Total</th>\n",
              "      <th>Survey Day</th>\n",
              "      <th>Raw Sleep Id</th>\n",
              "      <th>Time To Bed</th>\n",
              "      <th>Time Awake</th>\n",
              "      <th>Sleep Duration</th>\n",
              "      <th>Self-Reported Sleep Quality Rating (entered into app)</th>\n",
              "      <th>Sleep Score (calculated by SSB app)</th>\n",
              "      <th>Did you wear SSB? (self, not app, reported)</th>\n",
              "      <th>Epworth</th>\n",
              "      <th>Groningen</th>\n",
              "      <th>Duration of sleep begin</th>\n",
              "      <th>Sleep disturbance begin</th>\n",
              "      <th>Sleep latency begin</th>\n",
              "      <th>Day dysfunction due to sleepiness begin</th>\n",
              "      <th>Sleep efficiency begin</th>\n",
              "      <th>Overall sleep quality begin</th>\n",
              "      <th>Need medication to sleep begin</th>\n",
              "      <th>Duration of sleep end</th>\n",
              "      <th>Sleep disturbance end</th>\n",
              "      <th>Sleep latency end</th>\n",
              "      <th>Day dysfunction due to sleepiness end</th>\n",
              "      <th>Sleep efficiency end</th>\n",
              "      <th>Overall sleep quality end</th>\n",
              "      <th>Need medication to sleep end</th>\n",
              "      <th>Day Shift or Night Shift?</th>\n",
              "      <th>Epworth slope</th>\n",
              "      <th>Groningen slope</th>\n",
              "      <th>Epworth slope (people with first 4 Epworth average &gt; 10)</th>\n",
              "      <th>Groningen slope (people with first 4 Groningen average &gt; 5)</th>\n",
              "    </tr>\n",
              "  </thead>\n",
              "  <tbody>\n",
              "    <tr>\n",
              "      <th>1</th>\n",
              "      <td>2417</td>\n",
              "      <td>no ending score</td>\n",
              "      <td>NaN</td>\n",
              "      <td>5</td>\n",
              "      <td>2.5</td>\n",
              "      <td>poor sleeper</td>\n",
              "      <td>no</td>\n",
              "      <td>NaN</td>\n",
              "      <td>1</td>\n",
              "      <td>NaN</td>\n",
              "      <td>1</td>\n",
              "      <td>NaN</td>\n",
              "      <td>1</td>\n",
              "      <td>NaN</td>\n",
              "      <td>1</td>\n",
              "      <td>35 to 44</td>\n",
              "      <td>Female</td>\n",
              "      <td>Android</td>\n",
              "      <td>7</td>\n",
              "      <td>NaN</td>\n",
              "      <td>DAY 1</td>\n",
              "      <td>66323</td>\n",
              "      <td>2/12/2019 6:03:09 PM</td>\n",
              "      <td>2/12/2019 9:20:39 PM</td>\n",
              "      <td>3.29</td>\n",
              "      <td>3</td>\n",
              "      <td>49</td>\n",
              "      <td>Yes</td>\n",
              "      <td>5</td>\n",
              "      <td>3</td>\n",
              "      <td>2</td>\n",
              "      <td>1</td>\n",
              "      <td>0</td>\n",
              "      <td>0</td>\n",
              "      <td>3</td>\n",
              "      <td>1</td>\n",
              "      <td>0</td>\n",
              "      <td>NaN</td>\n",
              "      <td>NaN</td>\n",
              "      <td>NaN</td>\n",
              "      <td>NaN</td>\n",
              "      <td>NaN</td>\n",
              "      <td>NaN</td>\n",
              "      <td>NaN</td>\n",
              "      <td>Night Shift</td>\n",
              "      <td>-0.0217</td>\n",
              "      <td>0.0029</td>\n",
              "      <td>NaN</td>\n",
              "      <td>NaN</td>\n",
              "    </tr>\n",
              "    <tr>\n",
              "      <th>2</th>\n",
              "      <td>2417</td>\n",
              "      <td>NaN</td>\n",
              "      <td>NaN</td>\n",
              "      <td>NaN</td>\n",
              "      <td>NaN</td>\n",
              "      <td>NaN</td>\n",
              "      <td>NaN</td>\n",
              "      <td>NaN</td>\n",
              "      <td>1</td>\n",
              "      <td>NaN</td>\n",
              "      <td>1</td>\n",
              "      <td>NaN</td>\n",
              "      <td>1</td>\n",
              "      <td>NaN</td>\n",
              "      <td>1</td>\n",
              "      <td>35 to 44</td>\n",
              "      <td>Female</td>\n",
              "      <td>Android</td>\n",
              "      <td>7</td>\n",
              "      <td>NaN</td>\n",
              "      <td>DAY 2</td>\n",
              "      <td>66539</td>\n",
              "      <td>2/13/2019 6:23:32 PM</td>\n",
              "      <td>2/13/2019 9:20:47 PM</td>\n",
              "      <td>2.95</td>\n",
              "      <td>3</td>\n",
              "      <td>49</td>\n",
              "      <td>Yes</td>\n",
              "      <td>5</td>\n",
              "      <td>5</td>\n",
              "      <td>NaN</td>\n",
              "      <td>NaN</td>\n",
              "      <td>NaN</td>\n",
              "      <td>NaN</td>\n",
              "      <td>NaN</td>\n",
              "      <td>NaN</td>\n",
              "      <td>NaN</td>\n",
              "      <td>NaN</td>\n",
              "      <td>NaN</td>\n",
              "      <td>NaN</td>\n",
              "      <td>NaN</td>\n",
              "      <td>NaN</td>\n",
              "      <td>NaN</td>\n",
              "      <td>NaN</td>\n",
              "      <td>Night Shift</td>\n",
              "      <td>NaN</td>\n",
              "      <td>NaN</td>\n",
              "      <td>NaN</td>\n",
              "      <td>NaN</td>\n",
              "    </tr>\n",
              "    <tr>\n",
              "      <th>3</th>\n",
              "      <td>2417</td>\n",
              "      <td>NaN</td>\n",
              "      <td>NaN</td>\n",
              "      <td>NaN</td>\n",
              "      <td>NaN</td>\n",
              "      <td>NaN</td>\n",
              "      <td>NaN</td>\n",
              "      <td>NaN</td>\n",
              "      <td>1</td>\n",
              "      <td>NaN</td>\n",
              "      <td>1</td>\n",
              "      <td>NaN</td>\n",
              "      <td>1</td>\n",
              "      <td>NaN</td>\n",
              "      <td>1</td>\n",
              "      <td>35 to 44</td>\n",
              "      <td>Female</td>\n",
              "      <td>Android</td>\n",
              "      <td>7</td>\n",
              "      <td>NaN</td>\n",
              "      <td>DAY 3</td>\n",
              "      <td>66816</td>\n",
              "      <td>2/14/2019 6:12:23 PM</td>\n",
              "      <td>2/14/2019 10:22:53 PM</td>\n",
              "      <td>4.18</td>\n",
              "      <td>3</td>\n",
              "      <td>NaN</td>\n",
              "      <td>Yes</td>\n",
              "      <td>5</td>\n",
              "      <td>1</td>\n",
              "      <td>NaN</td>\n",
              "      <td>NaN</td>\n",
              "      <td>NaN</td>\n",
              "      <td>NaN</td>\n",
              "      <td>NaN</td>\n",
              "      <td>NaN</td>\n",
              "      <td>NaN</td>\n",
              "      <td>NaN</td>\n",
              "      <td>NaN</td>\n",
              "      <td>NaN</td>\n",
              "      <td>NaN</td>\n",
              "      <td>NaN</td>\n",
              "      <td>NaN</td>\n",
              "      <td>NaN</td>\n",
              "      <td>Night Shift</td>\n",
              "      <td>NaN</td>\n",
              "      <td>NaN</td>\n",
              "      <td>NaN</td>\n",
              "      <td>NaN</td>\n",
              "    </tr>\n",
              "    <tr>\n",
              "      <th>4</th>\n",
              "      <td>2417</td>\n",
              "      <td>NaN</td>\n",
              "      <td>NaN</td>\n",
              "      <td>NaN</td>\n",
              "      <td>NaN</td>\n",
              "      <td>NaN</td>\n",
              "      <td>NaN</td>\n",
              "      <td>NaN</td>\n",
              "      <td>0</td>\n",
              "      <td>NaN</td>\n",
              "      <td>0</td>\n",
              "      <td>NaN</td>\n",
              "      <td>NaN</td>\n",
              "      <td>NaN</td>\n",
              "      <td>NaN</td>\n",
              "      <td>NaN</td>\n",
              "      <td>NaN</td>\n",
              "      <td>NaN</td>\n",
              "      <td>NaN</td>\n",
              "      <td>NaN</td>\n",
              "      <td>DAY 4</td>\n",
              "      <td>NaN</td>\n",
              "      <td>NaN</td>\n",
              "      <td>NaN</td>\n",
              "      <td>NaN</td>\n",
              "      <td>NaN</td>\n",
              "      <td>NaN</td>\n",
              "      <td>NaN</td>\n",
              "      <td>NaN</td>\n",
              "      <td>NaN</td>\n",
              "      <td>NaN</td>\n",
              "      <td>NaN</td>\n",
              "      <td>NaN</td>\n",
              "      <td>NaN</td>\n",
              "      <td>NaN</td>\n",
              "      <td>NaN</td>\n",
              "      <td>NaN</td>\n",
              "      <td>NaN</td>\n",
              "      <td>NaN</td>\n",
              "      <td>NaN</td>\n",
              "      <td>NaN</td>\n",
              "      <td>NaN</td>\n",
              "      <td>NaN</td>\n",
              "      <td>NaN</td>\n",
              "      <td>NaN</td>\n",
              "      <td>NaN</td>\n",
              "      <td>NaN</td>\n",
              "      <td>NaN</td>\n",
              "      <td>NaN</td>\n",
              "    </tr>\n",
              "    <tr>\n",
              "      <th>5</th>\n",
              "      <td>2417</td>\n",
              "      <td>NaN</td>\n",
              "      <td>NaN</td>\n",
              "      <td>NaN</td>\n",
              "      <td>NaN</td>\n",
              "      <td>NaN</td>\n",
              "      <td>NaN</td>\n",
              "      <td>NaN</td>\n",
              "      <td>NaN</td>\n",
              "      <td>NaN</td>\n",
              "      <td>NaN</td>\n",
              "      <td>NaN</td>\n",
              "      <td>NaN</td>\n",
              "      <td>NaN</td>\n",
              "      <td>NaN</td>\n",
              "      <td>NaN</td>\n",
              "      <td>NaN</td>\n",
              "      <td>NaN</td>\n",
              "      <td>NaN</td>\n",
              "      <td>NaN</td>\n",
              "      <td>DAY 5</td>\n",
              "      <td>NaN</td>\n",
              "      <td>NaN</td>\n",
              "      <td>NaN</td>\n",
              "      <td>NaN</td>\n",
              "      <td>NaN</td>\n",
              "      <td>NaN</td>\n",
              "      <td>NaN</td>\n",
              "      <td>NaN</td>\n",
              "      <td>NaN</td>\n",
              "      <td>NaN</td>\n",
              "      <td>NaN</td>\n",
              "      <td>NaN</td>\n",
              "      <td>NaN</td>\n",
              "      <td>NaN</td>\n",
              "      <td>NaN</td>\n",
              "      <td>NaN</td>\n",
              "      <td>NaN</td>\n",
              "      <td>NaN</td>\n",
              "      <td>NaN</td>\n",
              "      <td>NaN</td>\n",
              "      <td>NaN</td>\n",
              "      <td>NaN</td>\n",
              "      <td>NaN</td>\n",
              "      <td>NaN</td>\n",
              "      <td>NaN</td>\n",
              "      <td>NaN</td>\n",
              "      <td>NaN</td>\n",
              "      <td>NaN</td>\n",
              "    </tr>\n",
              "  </tbody>\n",
              "</table>\n",
              "</div>"
            ],
            "text/plain": [
              "0    ID  ... Groningen slope (people with first 4 Groningen average > 5)\n",
              "1  2417  ...                                                NaN         \n",
              "2  2417  ...                                                NaN         \n",
              "3  2417  ...                                                NaN         \n",
              "4  2417  ...                                                NaN         \n",
              "5  2417  ...                                                NaN         \n",
              "\n",
              "[5 rows x 49 columns]"
            ]
          },
          "metadata": {
            "tags": []
          },
          "execution_count": 3
        }
      ]
    },
    {
      "cell_type": "markdown",
      "metadata": {
        "id": "ouSw-hP2ijKw",
        "colab_type": "text"
      },
      "source": [
        "## Supporting data exploratory analysis"
      ]
    },
    {
      "cell_type": "markdown",
      "metadata": {
        "id": "hOSZ_rIb27Ha",
        "colab_type": "text"
      },
      "source": [
        "The dataframe has mutiple nights reported. I want the 1st survey day to get the proper amount of genders and age groups for my exploratory data analysis."
      ]
    },
    {
      "cell_type": "code",
      "metadata": {
        "id": "PaP5wReTrxY6",
        "colab_type": "code",
        "outputId": "0caa470e-3b58-40d6-fb08-32686ea81671",
        "colab": {
          "base_uri": "https://localhost:8080/",
          "height": 534
        }
      },
      "source": [
        "main_df1 = main_df[main_df['Survey Day']=='DAY 1']\n",
        "print('Shape of old dataframe' ,':',main_df.shape)\n",
        "print('Shape of new dataframe' ,':',main_df1.shape)\n",
        "main_df1.head()"
      ],
      "execution_count": 0,
      "outputs": [
        {
          "output_type": "stream",
          "text": [
            "Shape of old dataframe : (2773, 49)\n",
            "Shape of new dataframe : (84, 49)\n"
          ],
          "name": "stdout"
        },
        {
          "output_type": "execute_result",
          "data": {
            "text/html": [
              "<div>\n",
              "<style scoped>\n",
              "    .dataframe tbody tr th:only-of-type {\n",
              "        vertical-align: middle;\n",
              "    }\n",
              "\n",
              "    .dataframe tbody tr th {\n",
              "        vertical-align: top;\n",
              "    }\n",
              "\n",
              "    .dataframe thead th {\n",
              "        text-align: right;\n",
              "    }\n",
              "</style>\n",
              "<table border=\"1\" class=\"dataframe\">\n",
              "  <thead>\n",
              "    <tr style=\"text-align: right;\">\n",
              "      <th></th>\n",
              "      <th>ID</th>\n",
              "      <th>Change in sleep quality—PSQI</th>\n",
              "      <th>NaN</th>\n",
              "      <th>Epworth sleep quality—average first 4 Epworths</th>\n",
              "      <th>Groningen sleep quality—average first 4 Groningens</th>\n",
              "      <th>PSQI sleep quality—beginning</th>\n",
              "      <th>Both PSQI surveys completed</th>\n",
              "      <th>Number of nights of SSB data (excluding first 4 nights)</th>\n",
              "      <th>SSB data—first 4 nights</th>\n",
              "      <th>Number of self-reported nights of sleep (excluding first 4 nights)</th>\n",
              "      <th>Self-reported SSB uses—first 4 days</th>\n",
              "      <th>SSB nights of data TOTAL</th>\n",
              "      <th>SSB nights of data</th>\n",
              "      <th>Self-reported SSB use TOTAL</th>\n",
              "      <th>Number of self-reported SSB uses</th>\n",
              "      <th>Age</th>\n",
              "      <th>Gender</th>\n",
              "      <th>OS</th>\n",
              "      <th>Beginning PSQI Total</th>\n",
              "      <th>Ending PSQI Total</th>\n",
              "      <th>Survey Day</th>\n",
              "      <th>Raw Sleep Id</th>\n",
              "      <th>Time To Bed</th>\n",
              "      <th>Time Awake</th>\n",
              "      <th>Sleep Duration</th>\n",
              "      <th>Self-Reported Sleep Quality Rating (entered into app)</th>\n",
              "      <th>Sleep Score (calculated by SSB app)</th>\n",
              "      <th>Did you wear SSB? (self, not app, reported)</th>\n",
              "      <th>Epworth</th>\n",
              "      <th>Groningen</th>\n",
              "      <th>Duration of sleep begin</th>\n",
              "      <th>Sleep disturbance begin</th>\n",
              "      <th>Sleep latency begin</th>\n",
              "      <th>Day dysfunction due to sleepiness begin</th>\n",
              "      <th>Sleep efficiency begin</th>\n",
              "      <th>Overall sleep quality begin</th>\n",
              "      <th>Need medication to sleep begin</th>\n",
              "      <th>Duration of sleep end</th>\n",
              "      <th>Sleep disturbance end</th>\n",
              "      <th>Sleep latency end</th>\n",
              "      <th>Day dysfunction due to sleepiness end</th>\n",
              "      <th>Sleep efficiency end</th>\n",
              "      <th>Overall sleep quality end</th>\n",
              "      <th>Need medication to sleep end</th>\n",
              "      <th>Day Shift or Night Shift?</th>\n",
              "      <th>Epworth slope</th>\n",
              "      <th>Groningen slope</th>\n",
              "      <th>Epworth slope (people with first 4 Epworth average &gt; 10)</th>\n",
              "      <th>Groningen slope (people with first 4 Groningen average &gt; 5)</th>\n",
              "    </tr>\n",
              "  </thead>\n",
              "  <tbody>\n",
              "    <tr>\n",
              "      <th>1</th>\n",
              "      <td>2417</td>\n",
              "      <td>no ending score</td>\n",
              "      <td>NaN</td>\n",
              "      <td>5</td>\n",
              "      <td>2.5</td>\n",
              "      <td>poor sleeper</td>\n",
              "      <td>no</td>\n",
              "      <td>NaN</td>\n",
              "      <td>1</td>\n",
              "      <td>NaN</td>\n",
              "      <td>1</td>\n",
              "      <td>NaN</td>\n",
              "      <td>1</td>\n",
              "      <td>NaN</td>\n",
              "      <td>1</td>\n",
              "      <td>35 to 44</td>\n",
              "      <td>Female</td>\n",
              "      <td>Android</td>\n",
              "      <td>7</td>\n",
              "      <td>NaN</td>\n",
              "      <td>DAY 1</td>\n",
              "      <td>66323</td>\n",
              "      <td>2/12/2019 6:03:09 PM</td>\n",
              "      <td>2/12/2019 9:20:39 PM</td>\n",
              "      <td>3.29</td>\n",
              "      <td>3</td>\n",
              "      <td>49</td>\n",
              "      <td>Yes</td>\n",
              "      <td>5</td>\n",
              "      <td>3</td>\n",
              "      <td>2</td>\n",
              "      <td>1</td>\n",
              "      <td>0</td>\n",
              "      <td>0</td>\n",
              "      <td>3</td>\n",
              "      <td>1</td>\n",
              "      <td>0</td>\n",
              "      <td>NaN</td>\n",
              "      <td>NaN</td>\n",
              "      <td>NaN</td>\n",
              "      <td>NaN</td>\n",
              "      <td>NaN</td>\n",
              "      <td>NaN</td>\n",
              "      <td>NaN</td>\n",
              "      <td>Night Shift</td>\n",
              "      <td>-0.0217</td>\n",
              "      <td>0.0029</td>\n",
              "      <td>NaN</td>\n",
              "      <td>NaN</td>\n",
              "    </tr>\n",
              "    <tr>\n",
              "      <th>34</th>\n",
              "      <td>2762</td>\n",
              "      <td>-1</td>\n",
              "      <td>NaN</td>\n",
              "      <td>11.75</td>\n",
              "      <td>11</td>\n",
              "      <td>poor sleeper</td>\n",
              "      <td>2762</td>\n",
              "      <td>NaN</td>\n",
              "      <td>0</td>\n",
              "      <td>NaN</td>\n",
              "      <td>1</td>\n",
              "      <td>NaN</td>\n",
              "      <td>NaN</td>\n",
              "      <td>NaN</td>\n",
              "      <td>1</td>\n",
              "      <td>45 to 54</td>\n",
              "      <td>Male</td>\n",
              "      <td>iOS (Apple)</td>\n",
              "      <td>7</td>\n",
              "      <td>6</td>\n",
              "      <td>DAY 1</td>\n",
              "      <td></td>\n",
              "      <td>NaN</td>\n",
              "      <td>NaN</td>\n",
              "      <td>NaN</td>\n",
              "      <td>NaN</td>\n",
              "      <td>NaN</td>\n",
              "      <td>Yes</td>\n",
              "      <td>12</td>\n",
              "      <td>13</td>\n",
              "      <td>1</td>\n",
              "      <td>1</td>\n",
              "      <td>2</td>\n",
              "      <td>1</td>\n",
              "      <td>0</td>\n",
              "      <td>2</td>\n",
              "      <td>0</td>\n",
              "      <td>1</td>\n",
              "      <td>1</td>\n",
              "      <td>1</td>\n",
              "      <td>1</td>\n",
              "      <td>1</td>\n",
              "      <td>1</td>\n",
              "      <td>0</td>\n",
              "      <td>Day Shift</td>\n",
              "      <td>-0.223</td>\n",
              "      <td>-0.2549</td>\n",
              "      <td>-0.223</td>\n",
              "      <td>-0.2549</td>\n",
              "    </tr>\n",
              "    <tr>\n",
              "      <th>67</th>\n",
              "      <td>2830</td>\n",
              "      <td>0</td>\n",
              "      <td>NaN</td>\n",
              "      <td>8</td>\n",
              "      <td>3.5</td>\n",
              "      <td>good sleeper</td>\n",
              "      <td>2830</td>\n",
              "      <td>NaN</td>\n",
              "      <td>0</td>\n",
              "      <td>NaN</td>\n",
              "      <td>0</td>\n",
              "      <td>NaN</td>\n",
              "      <td>NaN</td>\n",
              "      <td>NaN</td>\n",
              "      <td>0</td>\n",
              "      <td>25 to 34</td>\n",
              "      <td>Male</td>\n",
              "      <td>Android</td>\n",
              "      <td>5</td>\n",
              "      <td>5</td>\n",
              "      <td>DAY 1</td>\n",
              "      <td>NaN</td>\n",
              "      <td>NaN</td>\n",
              "      <td>NaN</td>\n",
              "      <td>NaN</td>\n",
              "      <td>NaN</td>\n",
              "      <td>NaN</td>\n",
              "      <td>No</td>\n",
              "      <td>11</td>\n",
              "      <td>8</td>\n",
              "      <td>0</td>\n",
              "      <td>2</td>\n",
              "      <td>0</td>\n",
              "      <td>2</td>\n",
              "      <td>0</td>\n",
              "      <td>1</td>\n",
              "      <td>0</td>\n",
              "      <td>2</td>\n",
              "      <td>0</td>\n",
              "      <td>2</td>\n",
              "      <td>0</td>\n",
              "      <td>1</td>\n",
              "      <td>0</td>\n",
              "      <td>5</td>\n",
              "      <td>Day Shift</td>\n",
              "      <td>0.0035</td>\n",
              "      <td>0.03</td>\n",
              "      <td>NaN</td>\n",
              "      <td>NaN</td>\n",
              "    </tr>\n",
              "    <tr>\n",
              "      <th>100</th>\n",
              "      <td>2831</td>\n",
              "      <td>-1</td>\n",
              "      <td>NaN</td>\n",
              "      <td>10.5</td>\n",
              "      <td>3.25</td>\n",
              "      <td>poor sleeper</td>\n",
              "      <td>2831</td>\n",
              "      <td>NaN</td>\n",
              "      <td>0</td>\n",
              "      <td>NaN</td>\n",
              "      <td>0</td>\n",
              "      <td>NaN</td>\n",
              "      <td>NaN</td>\n",
              "      <td>NaN</td>\n",
              "      <td>0</td>\n",
              "      <td>35 to 44</td>\n",
              "      <td>Male</td>\n",
              "      <td>Android</td>\n",
              "      <td>8</td>\n",
              "      <td>7</td>\n",
              "      <td>DAY 1</td>\n",
              "      <td>NaN</td>\n",
              "      <td>NaN</td>\n",
              "      <td>NaN</td>\n",
              "      <td>NaN</td>\n",
              "      <td>NaN</td>\n",
              "      <td>NaN</td>\n",
              "      <td>No</td>\n",
              "      <td>10</td>\n",
              "      <td>2</td>\n",
              "      <td>1</td>\n",
              "      <td>1</td>\n",
              "      <td>2</td>\n",
              "      <td>1</td>\n",
              "      <td>2</td>\n",
              "      <td>1</td>\n",
              "      <td>0</td>\n",
              "      <td>1</td>\n",
              "      <td>1</td>\n",
              "      <td>2</td>\n",
              "      <td>1</td>\n",
              "      <td>1</td>\n",
              "      <td>1</td>\n",
              "      <td>0</td>\n",
              "      <td>Day Shift</td>\n",
              "      <td>0.0158</td>\n",
              "      <td>-0.0699</td>\n",
              "      <td>0.0158</td>\n",
              "      <td>NaN</td>\n",
              "    </tr>\n",
              "    <tr>\n",
              "      <th>133</th>\n",
              "      <td>2832</td>\n",
              "      <td>-2</td>\n",
              "      <td>NaN</td>\n",
              "      <td>12</td>\n",
              "      <td>5</td>\n",
              "      <td>poor sleeper</td>\n",
              "      <td>2832</td>\n",
              "      <td>NaN</td>\n",
              "      <td>0</td>\n",
              "      <td>NaN</td>\n",
              "      <td>0</td>\n",
              "      <td>NaN</td>\n",
              "      <td>NaN</td>\n",
              "      <td>NaN</td>\n",
              "      <td>0</td>\n",
              "      <td>35 to 44</td>\n",
              "      <td>Male</td>\n",
              "      <td>iOS (Apple)</td>\n",
              "      <td>7</td>\n",
              "      <td>5</td>\n",
              "      <td>DAY 1</td>\n",
              "      <td></td>\n",
              "      <td>NaN</td>\n",
              "      <td>NaN</td>\n",
              "      <td>NaN</td>\n",
              "      <td>NaN</td>\n",
              "      <td>NaN</td>\n",
              "      <td>No</td>\n",
              "      <td>13</td>\n",
              "      <td>2</td>\n",
              "      <td>2</td>\n",
              "      <td>1</td>\n",
              "      <td>1</td>\n",
              "      <td>2</td>\n",
              "      <td>0</td>\n",
              "      <td>1</td>\n",
              "      <td>0</td>\n",
              "      <td>2</td>\n",
              "      <td>1</td>\n",
              "      <td>1</td>\n",
              "      <td>0</td>\n",
              "      <td>0</td>\n",
              "      <td>1</td>\n",
              "      <td>0</td>\n",
              "      <td>Day Shift</td>\n",
              "      <td>0.0781</td>\n",
              "      <td>-0.0297</td>\n",
              "      <td>0.0781</td>\n",
              "      <td>NaN</td>\n",
              "    </tr>\n",
              "  </tbody>\n",
              "</table>\n",
              "</div>"
            ],
            "text/plain": [
              "0      ID  ... Groningen slope (people with first 4 Groningen average > 5)\n",
              "1    2417  ...                                                NaN         \n",
              "34   2762  ...                                            -0.2549         \n",
              "67   2830  ...                                                NaN         \n",
              "100  2831  ...                                                NaN         \n",
              "133  2832  ...                                                NaN         \n",
              "\n",
              "[5 rows x 49 columns]"
            ]
          },
          "metadata": {
            "tags": []
          },
          "execution_count": 58
        }
      ]
    },
    {
      "cell_type": "markdown",
      "metadata": {
        "id": "eU-DAxJ2kugz",
        "colab_type": "text"
      },
      "source": [
        "Now we will take a look at the supporting data and get an overview of the ages and genders distributions in our sleep data."
      ]
    },
    {
      "cell_type": "code",
      "metadata": {
        "id": "RaV_YVY4iqhh",
        "colab_type": "code",
        "outputId": "a5adb2b6-12ff-4476-b4d0-4e4ac6b6e622",
        "colab": {
          "base_uri": "https://localhost:8080/",
          "height": 809
        }
      },
      "source": [
        "plt.figure(figsize=[8,6])\n",
        "main_df1.Gender.value_counts().plot(kind='barh')\n",
        "plt.xlabel('Total Subjects', fontsize=15)\n",
        "plt.ylabel('Genders', fontsize=15)\n",
        "plt.title('Subjects Per Gender', fontsize=20);\n",
        "plt.figure(figsize=[8,6])\n",
        "main_df1.Age.value_counts(ascending=True).plot(kind='barh')\n",
        "plt.xlabel('Total Subjects', fontsize=15)\n",
        "plt.ylabel('Age Group', fontsize=15)\n",
        "plt.title('Subjects Per Age Group', fontsize=20);"
      ],
      "execution_count": 0,
      "outputs": [
        {
          "output_type": "display_data",
          "data": {
            "image/png": "[encoded data removed]",
            "text/plain": [
              "<Figure size 576x432 with 1 Axes>"
            ]
          },
          "metadata": {
            "tags": [],
            "needs_background": "light"
          }
        },
        {
          "output_type": "display_data",
          "data": {
            "image/png": "[encoded data removed]",
            "text/plain": [
              "<Figure size 576x432 with 1 Axes>"
            ]
          },
          "metadata": {
            "tags": [],
            "needs_background": "light"
          }
        }
      ]
    },
    {
      "cell_type": "markdown",
      "metadata": {
        "id": "ZqzpQ4-d3-Ca",
        "colab_type": "text"
      },
      "source": [
        "The graph above shows that the study leaned towards subjects over the age of 35 and examined mostly male subjects. Age groups 18 to 24 and females were the most under represented."
      ]
    },
    {
      "cell_type": "markdown",
      "metadata": {
        "id": "Nx8LEi1GcRdg",
        "colab_type": "text"
      },
      "source": [
        "## Gender exploratory data anaylsis "
      ]
    },
    {
      "cell_type": "markdown",
      "metadata": {
        "id": "ZSiDfySH6kXr",
        "colab_type": "text"
      },
      "source": [
        "To get a better look at the distribution of genders I will split our main dataframe into male and female dataframes"
      ]
    },
    {
      "cell_type": "code",
      "metadata": {
        "id": "xUQww94ncXQl",
        "colab_type": "code",
        "colab": {}
      },
      "source": [
        "male_df = main_df1[main_df1['Gender']=='Male'] \n",
        "female_df = main_df1[main_df1['Gender']=='Female'] "
      ],
      "execution_count": 0,
      "outputs": []
    },
    {
      "cell_type": "code",
      "metadata": {
        "id": "f2DDf1_ndrqU",
        "colab_type": "code",
        "outputId": "efac8fd0-3807-449c-8b2c-17cdc9b2aa26",
        "colab": {
          "base_uri": "https://localhost:8080/",
          "height": 416
        }
      },
      "source": [
        "plt.figure(figsize=[8,6])\n",
        "plt.hist('Overall sleep quality begin',data=male_df, label='Male')\n",
        "plt.hist('Overall sleep quality begin',data=female_df, label='Female')\n",
        "plt.legend(bbox_to_anchor=(1.05, 1), loc='upper left', borderaxespad=0.)\n",
        "plt.ylabel('Total Subjects', fontsize=15)\n",
        "plt.xlabel('Beginning Sleep Quality', fontsize=15)\n",
        "plt.title('Beginning Sleep Quality per Gender',fontsize=25);"
      ],
      "execution_count": 0,
      "outputs": [
        {
          "output_type": "display_data",
          "data": {
            "image/png": "[encoded data removed]",
            "text/plain": [
              "<Figure size 576x432 with 1 Axes>"
            ]
          },
          "metadata": {
            "tags": [],
            "needs_background": "light"
          }
        }
      ]
    },
    {
      "cell_type": "markdown",
      "metadata": {
        "id": "5E6sFFOM60M9",
        "colab_type": "text"
      },
      "source": [
        "This graph above shows the beginning sleep quality across males and females. The scale goes from 0 being the best sleep and 3 being the worst sleep. It shows that most subjects reported a overall worse sleep on survey day 1. "
      ]
    },
    {
      "cell_type": "markdown",
      "metadata": {
        "id": "v87qjUg50l2K",
        "colab_type": "text"
      },
      "source": [
        "## Exploratory Data Analysis "
      ]
    },
    {
      "cell_type": "markdown",
      "metadata": {
        "id": "yc7c4elj8sq6",
        "colab_type": "text"
      },
      "source": [
        "To get an idea of how the data looks from a user I selected on to see how we can use the data given."
      ]
    },
    {
      "cell_type": "code",
      "metadata": {
        "id": "9psXWPr_1uep",
        "colab_type": "code",
        "outputId": "9be324f0-91a4-43d2-b4d8-bf5f34251ea3",
        "colab": {
          "base_uri": "https://localhost:8080/",
          "height": 201
        }
      },
      "source": [
        "df_dict = pickle.load(open( \"/content/drive/My Drive/Colab Notebooks/pickles/dictSave_2412.p\", \"rb\" ))\n",
        "df = pd.DataFrame.from_dict(df_dict)\n",
        "df.head()"
      ],
      "execution_count": 0,
      "outputs": [
        {
          "output_type": "execute_result",
          "data": {
            "text/html": [
              "<div>\n",
              "<style scoped>\n",
              "    .dataframe tbody tr th:only-of-type {\n",
              "        vertical-align: middle;\n",
              "    }\n",
              "\n",
              "    .dataframe tbody tr th {\n",
              "        vertical-align: top;\n",
              "    }\n",
              "\n",
              "    .dataframe thead th {\n",
              "        text-align: right;\n",
              "    }\n",
              "</style>\n",
              "<table border=\"1\" class=\"dataframe\">\n",
              "  <thead>\n",
              "    <tr style=\"text-align: right;\">\n",
              "      <th></th>\n",
              "      <th>rawSleepID</th>\n",
              "      <th>proSleepID</th>\n",
              "      <th>proTime</th>\n",
              "      <th>proOrientation</th>\n",
              "      <th>proSleepLvl</th>\n",
              "      <th>proHatOffLine</th>\n",
              "    </tr>\n",
              "  </thead>\n",
              "  <tbody>\n",
              "    <tr>\n",
              "      <th>0</th>\n",
              "      <td>49698</td>\n",
              "      <td>49712</td>\n",
              "      <td>0</td>\n",
              "      <td>11</td>\n",
              "      <td>100.0</td>\n",
              "      <td>NaN</td>\n",
              "    </tr>\n",
              "    <tr>\n",
              "      <th>1</th>\n",
              "      <td>49698</td>\n",
              "      <td>49712</td>\n",
              "      <td>15</td>\n",
              "      <td>11</td>\n",
              "      <td>99.9</td>\n",
              "      <td>NaN</td>\n",
              "    </tr>\n",
              "    <tr>\n",
              "      <th>2</th>\n",
              "      <td>49698</td>\n",
              "      <td>49712</td>\n",
              "      <td>30</td>\n",
              "      <td>11</td>\n",
              "      <td>99.7</td>\n",
              "      <td>NaN</td>\n",
              "    </tr>\n",
              "    <tr>\n",
              "      <th>3</th>\n",
              "      <td>49698</td>\n",
              "      <td>49712</td>\n",
              "      <td>45</td>\n",
              "      <td>11</td>\n",
              "      <td>99.3</td>\n",
              "      <td>NaN</td>\n",
              "    </tr>\n",
              "    <tr>\n",
              "      <th>4</th>\n",
              "      <td>49698</td>\n",
              "      <td>49712</td>\n",
              "      <td>60</td>\n",
              "      <td>11</td>\n",
              "      <td>98.8</td>\n",
              "      <td>NaN</td>\n",
              "    </tr>\n",
              "  </tbody>\n",
              "</table>\n",
              "</div>"
            ],
            "text/plain": [
              "   rawSleepID  proSleepID  proTime  proOrientation  proSleepLvl  proHatOffLine\n",
              "0       49698       49712        0              11        100.0            NaN\n",
              "1       49698       49712       15              11         99.9            NaN\n",
              "2       49698       49712       30              11         99.7            NaN\n",
              "3       49698       49712       45              11         99.3            NaN\n",
              "4       49698       49712       60              11         98.8            NaN"
            ]
          },
          "metadata": {
            "tags": []
          },
          "execution_count": 8
        }
      ]
    },
    {
      "cell_type": "markdown",
      "metadata": {
        "id": "stsCXYrL82mm",
        "colab_type": "text"
      },
      "source": [
        "So the user dataframe above shows that we have 6 categories.  \n",
        "**rawSleepID**-\tThe Id for the raw sleep data   \n",
        "**proSleepID**-  The Id for the night the raw sleep data was taken   \n",
        "**proTime**\t- The array of sleep time in 15 second intervals   \n",
        "**proOrientation**-\tOrientation values through the night ( Down = 1 Left = 2 Up = 3 Right = 4 Standing = 5 Headstand = 6)  \n",
        "**proSleepLvl**-\tSleep Level values 0 - 100, 0 being in the deepest sleep 100 being awake.   \n",
        "**proHatOffLine**- Device recording is off or giving no EEG values."
      ]
    },
    {
      "cell_type": "markdown",
      "metadata": {
        "id": "U4XS6ICNALnE",
        "colab_type": "text"
      },
      "source": [
        "Here is a example graph of a single user in a dataframe and his sleep level throguhout the night"
      ]
    },
    {
      "cell_type": "code",
      "metadata": {
        "id": "Eirqsm55wued",
        "colab_type": "code",
        "outputId": "742c3480-dc35-471d-8b54-5a136d9615d7",
        "colab": {
          "base_uri": "https://localhost:8080/",
          "height": 403
        }
      },
      "source": [
        "uniIdx = df.proSleepID.unique()\n",
        "uniDF  = df.loc[df['proSleepID'] == uniIdx[0]]\n",
        "\n",
        "name = 'SleepExample'\n",
        "\n",
        "fig = plt.figure(figsize=[8,6])\n",
        "ax = fig.add_subplot(111)\n",
        "fig.subplots_adjust(top=0.85)\n",
        "ax.set_title('Sleep Example',fontsize=25)\n",
        "ax.set_xlabel('Time (hours)',fontsize=15)\n",
        "ax.set_ylabel('Sleep Level',fontsize=15)\n",
        "ax.axis([0, 6.5, 0, 100])\n",
        "plt.plot(uniDF['proTime']/3600,uniDF['proSleepLvl'], 'b.', markersize=1);"
      ],
      "execution_count": 0,
      "outputs": [
        {
          "output_type": "display_data",
          "data": {
            "image/png": "[encoded data removed]",
            "text/plain": [
              "<Figure size 576x432 with 1 Axes>"
            ]
          },
          "metadata": {
            "tags": [],
            "needs_background": "light"
          }
        }
      ]
    },
    {
      "cell_type": "code",
      "metadata": {
        "id": "E2HZ7rP9uV1T",
        "colab_type": "code",
        "outputId": "c47a3c3b-4168-462d-b764-f884048fe2ee",
        "colab": {
          "base_uri": "https://localhost:8080/",
          "height": 422
        }
      },
      "source": [
        "plt.figure(figsize=[8,6])\n",
        "plt.scatter(df['proOrientation'],df['proSleepLvl'], alpha=0.5);\n",
        "plt.ylabel('Sleep Level', fontsize=15)\n",
        "plt.xlabel('Sleep Orientation', fontsize=15)\n",
        "plt.title('Sleep Level vs Orientation', fontsize=25)\n",
        "plt.xticks(size=15)\n",
        "plt.yticks(size=15)\n",
        "plt.show()"
      ],
      "execution_count": 0,
      "outputs": [
        {
          "output_type": "display_data",
          "data": {
            "image/png": "[encoded data removed]",
            "text/plain": [
              "<Figure size 576x432 with 1 Axes>"
            ]
          },
          "metadata": {
            "tags": [],
            "needs_background": "light"
          }
        }
      ]
    },
    {
      "cell_type": "markdown",
      "metadata": {
        "id": "ger_jUpDAR_v",
        "colab_type": "text"
      },
      "source": [
        "The graph above shows the orientation sleep orientation to sleep level of user 2412 throughout the study. 100 being awake and 0 being deepest type of sleep. "
      ]
    },
    {
      "cell_type": "code",
      "metadata": {
        "id": "873G8HlMMp0j",
        "colab_type": "code",
        "outputId": "85377980-0e41-4154-8730-88d3d1665859",
        "colab": {
          "base_uri": "https://localhost:8080/",
          "height": 416
        }
      },
      "source": [
        "df['proOrientation'].value_counts(ascending=True).plot(kind='barh',figsize=(8,6))\n",
        "plt.xlabel('Frequency', fontsize=15)\n",
        "plt.ylabel('Sleep Orientation', fontsize=15)\n",
        "plt.title('Most Frequent Sleep Orientation',fontsize=25);"
      ],
      "execution_count": 0,
      "outputs": [
        {
          "output_type": "display_data",
          "data": {
            "image/png": "[encoded data removed]",
            "text/plain": [
              "<Figure size 576x432 with 1 Axes>"
            ]
          },
          "metadata": {
            "tags": [],
            "needs_background": "light"
          }
        }
      ]
    },
    {
      "cell_type": "markdown",
      "metadata": {
        "id": "4arQ_r-LAdCh",
        "colab_type": "text"
      },
      "source": [
        "In the graph above shows user 2412 favored sleep orientation throughout the study, which is number 5 (Headstand)"
      ]
    },
    {
      "cell_type": "code",
      "metadata": {
        "id": "k1JRaPOMkFRx",
        "colab_type": "code",
        "outputId": "ddc5aac4-5d2b-49f0-c5b5-40875b9f645d",
        "colab": {
          "base_uri": "https://localhost:8080/",
          "height": 416
        }
      },
      "source": [
        "df.hist(figsize=[8,6], bins=50, ylabelsize=10, xlabelsize=10, column=['proTime'])\n",
        "plt.ylabel('Frequency', fontsize=15)\n",
        "plt.xlabel('Length of sleep (mins)', fontsize=15)\n",
        "plt.title('Average length of Sleep',fontsize=25)\n",
        "plt.show();"
      ],
      "execution_count": 0,
      "outputs": [
        {
          "output_type": "display_data",
          "data": {
            "image/png": "[encoded data removed]",
            "text/plain": [
              "<Figure size 576x432 with 1 Axes>"
            ]
          },
          "metadata": {
            "tags": [],
            "needs_background": "light"
          }
        }
      ]
    },
    {
      "cell_type": "markdown",
      "metadata": {
        "id": "l4ehDXpdCwre",
        "colab_type": "text"
      },
      "source": [
        "In the graph above shows User 2412 frequency of length of sleep throughout the study ."
      ]
    },
    {
      "cell_type": "markdown",
      "metadata": {
        "id": "v1BYHd8BIzkv",
        "colab_type": "text"
      },
      "source": [
        "## Average Minutes Below Level function"
      ]
    },
    {
      "cell_type": "markdown",
      "metadata": {
        "id": "qjkUWSwuDc2z",
        "colab_type": "text"
      },
      "source": [
        "Now I will create functions to loop over my user_id's so I can attempt to classify the subjects into different clusters"
      ]
    },
    {
      "cell_type": "code",
      "metadata": {
        "id": "4J0WdeJwG1YA",
        "colab_type": "code",
        "outputId": "4b901ced-737d-4370-d895-58f3e9380e2c",
        "colab": {
          "base_uri": "https://localhost:8080/",
          "height": 230
        }
      },
      "source": [
        "df1_dict = pickle.load(open( \"/content/drive/My Drive/Colab Notebooks/pickles/dictSave_2417.p\", \"rb\" ))\n",
        "df1 = pd.DataFrame.from_dict(df1_dict)\n",
        "print(df1.head())\n",
        "print(df1.dtypes)"
      ],
      "execution_count": 0,
      "outputs": [
        {
          "output_type": "stream",
          "text": [
            "   rawSleepID  proSleepID  proTime  proOrientation  proSleepLvl  proHatOffLine\n",
            "0       66879       66893        0               5        100.0            NaN\n",
            "1       66879       66893       15               5        100.0            NaN\n",
            "2       66879       66893       30               5         99.8            NaN\n",
            "3       66879       66893       45               5         99.6            NaN\n",
            "4       66879       66893       60               5         99.3            NaN\n",
            "rawSleepID          int64\n",
            "proSleepID          int64\n",
            "proTime             int64\n",
            "proOrientation      int64\n",
            "proSleepLvl       float64\n",
            "proHatOffLine     float64\n",
            "dtype: object\n"
          ],
          "name": "stdout"
        }
      ]
    },
    {
      "cell_type": "markdown",
      "metadata": {
        "id": "bXn0veS1YWE0",
        "colab_type": "text"
      },
      "source": [
        "This function gives me how long a person sleep in mins so I could possibly classify good and bad sleepers by if we add another dimension like length of sleep."
      ]
    },
    {
      "cell_type": "code",
      "metadata": {
        "colab_type": "code",
        "id": "hIxDSXGNGKH3",
        "colab": {}
      },
      "source": [
        "def AvgMinBelowLvl(psl_column,sleep_lvl,number_of_nights):\n",
        "  ds_time = 0\n",
        "  for lvl in psl_column.iteritems():\n",
        "    if pd.isnull(lvl):\n",
        "      continue\n",
        "    else:\n",
        "      if lvl[1] < sleep_lvl:\n",
        "        ds_time += .25\n",
        "  return ds_time/number_of_nights   "
      ],
      "execution_count": 0,
      "outputs": []
    },
    {
      "cell_type": "markdown",
      "metadata": {
        "id": "vvCro1skjtZy",
        "colab_type": "text"
      },
      "source": [
        "Adding the AvgMinsBelowLvl 100 gives me the fraction of time under a specified level."
      ]
    },
    {
      "cell_type": "code",
      "metadata": {
        "id": "Da9e_OiUL0Fb",
        "colab_type": "code",
        "colab": {}
      },
      "source": [
        "df1_dsTime = AvgMinBelowLvl(df1['proSleepLvl'],60,32)/AvgMinBelowLvl(df1['proSleepLvl'],100,32)"
      ],
      "execution_count": 0,
      "outputs": []
    },
    {
      "cell_type": "markdown",
      "metadata": {
        "id": "v9A_snTWulNH",
        "colab_type": "text"
      },
      "source": [
        "Here I will create my list of user_id's I want to loop over"
      ]
    },
    {
      "cell_type": "code",
      "metadata": {
        "id": "Ck64LKPEkBSp",
        "colab_type": "code",
        "outputId": "e84c7c65-d5ba-4544-85cd-a392fe98fbb9",
        "colab": {
          "base_uri": "https://localhost:8080/",
          "height": 52
        }
      },
      "source": [
        "user_idx1 = list(main_df1.ID.unique())\n",
        "print(user_idx1)"
      ],
      "execution_count": 0,
      "outputs": [
        {
          "output_type": "stream",
          "text": [
            "[2417, 2762, 2830, 2831, 2832, 2833, 2834, 2835, 2836, 2838, 2842, 2844, 2845, 2846, 2848, 2850, 2852, 2853, 2856, 2857, 2859, 2862, 2863, 2864, 2866, 2867, 2868, 2870, 2871, 2872, 2874, 2878, 2880, 2886, 2887, 2889, 2890, 2891, 2892, 2893, 2894, 2899, 2905, 2909, 2910, 2911, 2912, 2913, 2914, 2915, 2919, 2926, 2927, 2928, 2929, 2932, 2934, 2935, 2937, 2939, 2940, 2942, 2944, 2946, 2948, 2955, 2956, 2959, 2960, 2961, 2963, 2967, 2971, 2974, 2975, 2980, 2985, 2987, 2988, 2943, 2992, 2994, 3001, 2412]\n"
          ],
          "name": "stdout"
        }
      ]
    },
    {
      "cell_type": "code",
      "metadata": {
        "id": "JfRjds3Vq82O",
        "colab_type": "code",
        "colab": {}
      },
      "source": [
        "user_idx1.remove(2417)\n",
        "user_idx1.remove(2833)\n",
        "user_idx1.remove(2845)\n",
        "user_idx1.remove(2844)\n",
        "user_idx1.remove(3001)\n",
        "user_idx1.remove(2988)"
      ],
      "execution_count": 0,
      "outputs": []
    },
    {
      "cell_type": "code",
      "metadata": {
        "id": "56a7tw_Ms0Gf",
        "colab_type": "code",
        "outputId": "cdfa6020-ab39-44a5-aec8-8b81422a1d78",
        "colab": {
          "base_uri": "https://localhost:8080/",
          "height": 52
        }
      },
      "source": [
        "print(user_idx1)"
      ],
      "execution_count": 0,
      "outputs": [
        {
          "output_type": "stream",
          "text": [
            "[2762, 2830, 2831, 2832, 2834, 2835, 2836, 2838, 2842, 2846, 2848, 2850, 2852, 2853, 2856, 2857, 2859, 2862, 2863, 2864, 2866, 2867, 2868, 2870, 2871, 2872, 2874, 2878, 2880, 2886, 2887, 2889, 2890, 2891, 2892, 2893, 2894, 2899, 2905, 2909, 2910, 2911, 2912, 2913, 2914, 2915, 2919, 2926, 2927, 2928, 2929, 2932, 2934, 2935, 2937, 2939, 2940, 2942, 2944, 2946, 2948, 2955, 2956, 2959, 2960, 2961, 2963, 2967, 2971, 2974, 2975, 2980, 2985, 2987, 2943, 2992, 2994, 2412]\n"
          ],
          "name": "stdout"
        }
      ]
    },
    {
      "cell_type": "markdown",
      "metadata": {
        "id": "SQ8Tve5geUL-",
        "colab_type": "text"
      },
      "source": [
        "Now I want to take my function 'deeper_sleep' and loop over all of my files in my pickle folder"
      ]
    },
    {
      "cell_type": "code",
      "metadata": {
        "id": "Mid3GJ2zeeIU",
        "colab_type": "code",
        "outputId": "55971511-644b-40ed-82f9-5704d0de4292",
        "colab": {
          "base_uri": "https://localhost:8080/",
          "height": 247
        }
      },
      "source": [
        "data= []\n",
        "for x in user_idx1:\n",
        "  cols = ['Mins Below Sleep Lvl 60']\n",
        "  dict_user = pickle.load(open( \"/content/drive/My Drive/Colab Notebooks/pickles/dictSave_\"+str(x)+\".p\", \"rb\" ))\n",
        "  df_user = pd.DataFrame.from_dict(dict_user)\n",
        "  results = AvgMinBelowLvl(df_user['proSleepLvl'],60,31)/AvgMinBelowLvl(df1['proSleepLvl'],100,31)\n",
        "  data.append(results)\n",
        "\n",
        "deep_results = pd.DataFrame(data, columns=cols)\n",
        "print(deep_results)"
      ],
      "execution_count": 0,
      "outputs": [
        {
          "output_type": "stream",
          "text": [
            "    Mins Below Sleep Lvl 60\n",
            "0                  0.805462\n",
            "1                  0.552985\n",
            "2                  0.868158\n",
            "3                  0.908442\n",
            "4                  0.752747\n",
            "..                      ...\n",
            "73                 0.497532\n",
            "74                 0.385976\n",
            "75                 1.283681\n",
            "76                 0.522826\n",
            "77                 0.858141\n",
            "\n",
            "[78 rows x 1 columns]\n"
          ],
          "name": "stdout"
        }
      ]
    },
    {
      "cell_type": "code",
      "metadata": {
        "id": "V5p0IJF-V5Cw",
        "colab_type": "code",
        "colab": {}
      },
      "source": [
        "user_df = pd.DataFrame(user_idx1, columns=['User_ID'])\n",
        "deep_results1 = pd.concat([user_df,deep_results], axis=1)"
      ],
      "execution_count": 0,
      "outputs": []
    },
    {
      "cell_type": "code",
      "metadata": {
        "id": "ouCOxcTjekO6",
        "colab_type": "code",
        "outputId": "850704d8-58d6-40d7-b230-6e6175398647",
        "colab": {
          "base_uri": "https://localhost:8080/",
          "height": 201
        }
      },
      "source": [
        "deep_results1.head()"
      ],
      "execution_count": 0,
      "outputs": [
        {
          "output_type": "execute_result",
          "data": {
            "text/html": [
              "<div>\n",
              "<style scoped>\n",
              "    .dataframe tbody tr th:only-of-type {\n",
              "        vertical-align: middle;\n",
              "    }\n",
              "\n",
              "    .dataframe tbody tr th {\n",
              "        vertical-align: top;\n",
              "    }\n",
              "\n",
              "    .dataframe thead th {\n",
              "        text-align: right;\n",
              "    }\n",
              "</style>\n",
              "<table border=\"1\" class=\"dataframe\">\n",
              "  <thead>\n",
              "    <tr style=\"text-align: right;\">\n",
              "      <th></th>\n",
              "      <th>User_ID</th>\n",
              "      <th>Mins Below Sleep Lvl 60</th>\n",
              "    </tr>\n",
              "  </thead>\n",
              "  <tbody>\n",
              "    <tr>\n",
              "      <th>0</th>\n",
              "      <td>2762</td>\n",
              "      <td>0.805462</td>\n",
              "    </tr>\n",
              "    <tr>\n",
              "      <th>1</th>\n",
              "      <td>2830</td>\n",
              "      <td>0.552985</td>\n",
              "    </tr>\n",
              "    <tr>\n",
              "      <th>2</th>\n",
              "      <td>2831</td>\n",
              "      <td>0.868158</td>\n",
              "    </tr>\n",
              "    <tr>\n",
              "      <th>3</th>\n",
              "      <td>2832</td>\n",
              "      <td>0.908442</td>\n",
              "    </tr>\n",
              "    <tr>\n",
              "      <th>4</th>\n",
              "      <td>2834</td>\n",
              "      <td>0.752747</td>\n",
              "    </tr>\n",
              "  </tbody>\n",
              "</table>\n",
              "</div>"
            ],
            "text/plain": [
              "   User_ID  Mins Below Sleep Lvl 60\n",
              "0     2762                 0.805462\n",
              "1     2830                 0.552985\n",
              "2     2831                 0.868158\n",
              "3     2832                 0.908442\n",
              "4     2834                 0.752747"
            ]
          },
          "metadata": {
            "tags": []
          },
          "execution_count": 21
        }
      ]
    },
    {
      "cell_type": "markdown",
      "metadata": {
        "id": "CpCdQ9jwWv1C",
        "colab_type": "text"
      },
      "source": [
        "## Average Length Of Sleep Function"
      ]
    },
    {
      "cell_type": "markdown",
      "metadata": {
        "id": "vkliJIDx3wKb",
        "colab_type": "text"
      },
      "source": [
        "Here with this function I want to get the full lengeth of sleep / the number of unique rawsleep ids"
      ]
    },
    {
      "cell_type": "code",
      "metadata": {
        "id": "GBgM20md4FsX",
        "colab_type": "code",
        "outputId": "810448bd-5dc5-4e89-a018-931eaa69decc",
        "colab": {
          "base_uri": "https://localhost:8080/",
          "height": 230
        }
      },
      "source": [
        "df2_dict = pickle.load(open( \"/content/drive/My Drive/Colab Notebooks/pickles/dictSave_2891.p\", \"rb\" ))\n",
        "df2 = pd.DataFrame.from_dict(df2_dict)\n",
        "print(df2.head())\n",
        "print(df2.dtypes)"
      ],
      "execution_count": 0,
      "outputs": [
        {
          "output_type": "stream",
          "text": [
            "   rawSleepID  proSleepID  proTime  proOrientation  proSleepLvl  proHatOffLine\n",
            "0       65710       65724        0               8        100.0            NaN\n",
            "1       65710       65724       15               8        100.0            NaN\n",
            "2       65710       65724       30               1        100.0            NaN\n",
            "3       65710       65724       45               1         99.9            NaN\n",
            "4       65710       65724       60               1         99.9            NaN\n",
            "rawSleepID          int64\n",
            "proSleepID          int64\n",
            "proTime             int64\n",
            "proOrientation      int64\n",
            "proSleepLvl       float64\n",
            "proHatOffLine     float64\n",
            "dtype: object\n"
          ],
          "name": "stdout"
        }
      ]
    },
    {
      "cell_type": "code",
      "metadata": {
        "id": "h4bFPxHZ4XrE",
        "colab_type": "code",
        "colab": {}
      },
      "source": [
        "def Avg_length_of_sleep(proTime_col,total_nights):\n",
        "  sleep_time = 0\n",
        "  for time in proTime_col.iteritems():\n",
        "    if pd.isnull(time):\n",
        "      continue\n",
        "    else:\n",
        "        sleep_time += .25\n",
        "  return sleep_time /total_nights"
      ],
      "execution_count": 0,
      "outputs": []
    },
    {
      "cell_type": "code",
      "metadata": {
        "id": "Cj9MhREclR-d",
        "colab_type": "code",
        "outputId": "9c94b56c-f40b-4353-b933-35e1784d03e9",
        "colab": {
          "base_uri": "https://localhost:8080/",
          "height": 32
        }
      },
      "source": [
        "function_result = Avg_length_of_sleep(df2['proSleepLvl'],40)\n",
        "print(function_result)"
      ],
      "execution_count": 0,
      "outputs": [
        {
          "output_type": "stream",
          "text": [
            "475.3375\n"
          ],
          "name": "stdout"
        }
      ]
    },
    {
      "cell_type": "markdown",
      "metadata": {
        "id": "32kwZz64uDO8",
        "colab_type": "text"
      },
      "source": [
        "Now I will Loop over my pickle files"
      ]
    },
    {
      "cell_type": "code",
      "metadata": {
        "id": "Yqb1FLpOuM_N",
        "colab_type": "code",
        "outputId": "4a5ba004-6099-4370-f440-766ed4fad7b7",
        "colab": {
          "base_uri": "https://localhost:8080/",
          "height": 247
        }
      },
      "source": [
        "length_data= []\n",
        "for x in user_idx1:\n",
        "  cols = ['Avg Total Sleep']\n",
        "  dict_user2 = pickle.load(open( \"/content/drive/My Drive/Colab Notebooks/pickles/dictSave_\"+str(x)+\".p\", \"rb\" ))\n",
        "  df_user2 = pd.DataFrame.from_dict(dict_user2)\n",
        "  results2 = Avg_length_of_sleep(df_user2['proTime'],32)\n",
        "  length_data.append(results2)\n",
        "\n",
        "length_results = pd.DataFrame(length_data, columns=cols)\n",
        "print(length_results)"
      ],
      "execution_count": 0,
      "outputs": [
        {
          "output_type": "stream",
          "text": [
            "    Avg Total Sleep\n",
            "0        323.664062\n",
            "1        261.859375\n",
            "2        348.437500\n",
            "3        349.773438\n",
            "4        308.101562\n",
            "..              ...\n",
            "73       361.195312\n",
            "74       309.070312\n",
            "75       529.546875\n",
            "76       266.773438\n",
            "77       369.289062\n",
            "\n",
            "[78 rows x 1 columns]\n"
          ],
          "name": "stdout"
        }
      ]
    },
    {
      "cell_type": "code",
      "metadata": {
        "id": "LuNwvgDmu6z-",
        "colab_type": "code",
        "colab": {}
      },
      "source": [
        "length_deep_results = pd.concat([deep_results1,length_results], axis=1)"
      ],
      "execution_count": 0,
      "outputs": []
    },
    {
      "cell_type": "code",
      "metadata": {
        "id": "AMa8MyLsvJaE",
        "colab_type": "code",
        "outputId": "9d2ac897-a49b-4b4d-80c3-4a6a07f0033f",
        "colab": {
          "base_uri": "https://localhost:8080/",
          "height": 201
        }
      },
      "source": [
        "length_deep_results.head()"
      ],
      "execution_count": 0,
      "outputs": [
        {
          "output_type": "execute_result",
          "data": {
            "text/html": [
              "<div>\n",
              "<style scoped>\n",
              "    .dataframe tbody tr th:only-of-type {\n",
              "        vertical-align: middle;\n",
              "    }\n",
              "\n",
              "    .dataframe tbody tr th {\n",
              "        vertical-align: top;\n",
              "    }\n",
              "\n",
              "    .dataframe thead th {\n",
              "        text-align: right;\n",
              "    }\n",
              "</style>\n",
              "<table border=\"1\" class=\"dataframe\">\n",
              "  <thead>\n",
              "    <tr style=\"text-align: right;\">\n",
              "      <th></th>\n",
              "      <th>User_ID</th>\n",
              "      <th>Mins Below Sleep Lvl 60</th>\n",
              "      <th>Avg Total Sleep</th>\n",
              "    </tr>\n",
              "  </thead>\n",
              "  <tbody>\n",
              "    <tr>\n",
              "      <th>0</th>\n",
              "      <td>2762</td>\n",
              "      <td>0.805462</td>\n",
              "      <td>323.664062</td>\n",
              "    </tr>\n",
              "    <tr>\n",
              "      <th>1</th>\n",
              "      <td>2830</td>\n",
              "      <td>0.552985</td>\n",
              "      <td>261.859375</td>\n",
              "    </tr>\n",
              "    <tr>\n",
              "      <th>2</th>\n",
              "      <td>2831</td>\n",
              "      <td>0.868158</td>\n",
              "      <td>348.437500</td>\n",
              "    </tr>\n",
              "    <tr>\n",
              "      <th>3</th>\n",
              "      <td>2832</td>\n",
              "      <td>0.908442</td>\n",
              "      <td>349.773438</td>\n",
              "    </tr>\n",
              "    <tr>\n",
              "      <th>4</th>\n",
              "      <td>2834</td>\n",
              "      <td>0.752747</td>\n",
              "      <td>308.101562</td>\n",
              "    </tr>\n",
              "  </tbody>\n",
              "</table>\n",
              "</div>"
            ],
            "text/plain": [
              "   User_ID  Mins Below Sleep Lvl 60  Avg Total Sleep\n",
              "0     2762                 0.805462       323.664062\n",
              "1     2830                 0.552985       261.859375\n",
              "2     2831                 0.868158       348.437500\n",
              "3     2832                 0.908442       349.773438\n",
              "4     2834                 0.752747       308.101562"
            ]
          },
          "metadata": {
            "tags": []
          },
          "execution_count": 27
        }
      ]
    },
    {
      "cell_type": "markdown",
      "metadata": {
        "id": "QIRI5Qdqj6C5",
        "colab_type": "text"
      },
      "source": [
        "## Creating a DataFrame for creating cluster graphs "
      ]
    },
    {
      "cell_type": "markdown",
      "metadata": {
        "id": "T-R0Qnv1ExZH",
        "colab_type": "text"
      },
      "source": [
        "Here I will take specific columns from my initial main dataframe, and drop others."
      ]
    },
    {
      "cell_type": "code",
      "metadata": {
        "id": "R1s01gdXkFj7",
        "colab_type": "code",
        "outputId": "3a85dc35-9ab4-4a1b-d378-55650b302d42",
        "colab": {
          "base_uri": "https://localhost:8080/",
          "height": 374
        }
      },
      "source": [
        "main_df1.head(3)"
      ],
      "execution_count": 0,
      "outputs": [
        {
          "output_type": "execute_result",
          "data": {
            "text/html": [
              "<div>\n",
              "<style scoped>\n",
              "    .dataframe tbody tr th:only-of-type {\n",
              "        vertical-align: middle;\n",
              "    }\n",
              "\n",
              "    .dataframe tbody tr th {\n",
              "        vertical-align: top;\n",
              "    }\n",
              "\n",
              "    .dataframe thead th {\n",
              "        text-align: right;\n",
              "    }\n",
              "</style>\n",
              "<table border=\"1\" class=\"dataframe\">\n",
              "  <thead>\n",
              "    <tr style=\"text-align: right;\">\n",
              "      <th></th>\n",
              "      <th>ID</th>\n",
              "      <th>Change in sleep quality—PSQI</th>\n",
              "      <th>NaN</th>\n",
              "      <th>Epworth sleep quality—average first 4 Epworths</th>\n",
              "      <th>Groningen sleep quality—average first 4 Groningens</th>\n",
              "      <th>PSQI sleep quality—beginning</th>\n",
              "      <th>Both PSQI surveys completed</th>\n",
              "      <th>Number of nights of SSB data (excluding first 4 nights)</th>\n",
              "      <th>SSB data—first 4 nights</th>\n",
              "      <th>Number of self-reported nights of sleep (excluding first 4 nights)</th>\n",
              "      <th>Self-reported SSB uses—first 4 days</th>\n",
              "      <th>SSB nights of data TOTAL</th>\n",
              "      <th>SSB nights of data</th>\n",
              "      <th>Self-reported SSB use TOTAL</th>\n",
              "      <th>Number of self-reported SSB uses</th>\n",
              "      <th>Age</th>\n",
              "      <th>Gender</th>\n",
              "      <th>OS</th>\n",
              "      <th>Beginning PSQI Total</th>\n",
              "      <th>Ending PSQI Total</th>\n",
              "      <th>Survey Day</th>\n",
              "      <th>Raw Sleep Id</th>\n",
              "      <th>Time To Bed</th>\n",
              "      <th>Time Awake</th>\n",
              "      <th>Sleep Duration</th>\n",
              "      <th>Self-Reported Sleep Quality Rating (entered into app)</th>\n",
              "      <th>Sleep Score (calculated by SSB app)</th>\n",
              "      <th>Did you wear SSB? (self, not app, reported)</th>\n",
              "      <th>Epworth</th>\n",
              "      <th>Groningen</th>\n",
              "      <th>Duration of sleep begin</th>\n",
              "      <th>Sleep disturbance begin</th>\n",
              "      <th>Sleep latency begin</th>\n",
              "      <th>Day dysfunction due to sleepiness begin</th>\n",
              "      <th>Sleep efficiency begin</th>\n",
              "      <th>Overall sleep quality begin</th>\n",
              "      <th>Need medication to sleep begin</th>\n",
              "      <th>Duration of sleep end</th>\n",
              "      <th>Sleep disturbance end</th>\n",
              "      <th>Sleep latency end</th>\n",
              "      <th>Day dysfunction due to sleepiness end</th>\n",
              "      <th>Sleep efficiency end</th>\n",
              "      <th>Overall sleep quality end</th>\n",
              "      <th>Need medication to sleep end</th>\n",
              "      <th>Day Shift or Night Shift?</th>\n",
              "      <th>Epworth slope</th>\n",
              "      <th>Groningen slope</th>\n",
              "      <th>Epworth slope (people with first 4 Epworth average &gt; 10)</th>\n",
              "      <th>Groningen slope (people with first 4 Groningen average &gt; 5)</th>\n",
              "    </tr>\n",
              "  </thead>\n",
              "  <tbody>\n",
              "    <tr>\n",
              "      <th>1</th>\n",
              "      <td>2417</td>\n",
              "      <td>no ending score</td>\n",
              "      <td>NaN</td>\n",
              "      <td>5</td>\n",
              "      <td>2.5</td>\n",
              "      <td>poor sleeper</td>\n",
              "      <td>no</td>\n",
              "      <td>NaN</td>\n",
              "      <td>1</td>\n",
              "      <td>NaN</td>\n",
              "      <td>1</td>\n",
              "      <td>NaN</td>\n",
              "      <td>1</td>\n",
              "      <td>NaN</td>\n",
              "      <td>1</td>\n",
              "      <td>35 to 44</td>\n",
              "      <td>Female</td>\n",
              "      <td>Android</td>\n",
              "      <td>7</td>\n",
              "      <td>NaN</td>\n",
              "      <td>DAY 1</td>\n",
              "      <td>66323</td>\n",
              "      <td>2/12/2019 6:03:09 PM</td>\n",
              "      <td>2/12/2019 9:20:39 PM</td>\n",
              "      <td>3.29</td>\n",
              "      <td>3</td>\n",
              "      <td>49</td>\n",
              "      <td>Yes</td>\n",
              "      <td>5</td>\n",
              "      <td>3</td>\n",
              "      <td>2</td>\n",
              "      <td>1</td>\n",
              "      <td>0</td>\n",
              "      <td>0</td>\n",
              "      <td>3</td>\n",
              "      <td>1</td>\n",
              "      <td>0</td>\n",
              "      <td>NaN</td>\n",
              "      <td>NaN</td>\n",
              "      <td>NaN</td>\n",
              "      <td>NaN</td>\n",
              "      <td>NaN</td>\n",
              "      <td>NaN</td>\n",
              "      <td>NaN</td>\n",
              "      <td>Night Shift</td>\n",
              "      <td>-0.0217</td>\n",
              "      <td>0.0029</td>\n",
              "      <td>NaN</td>\n",
              "      <td>NaN</td>\n",
              "    </tr>\n",
              "    <tr>\n",
              "      <th>34</th>\n",
              "      <td>2762</td>\n",
              "      <td>-1</td>\n",
              "      <td>NaN</td>\n",
              "      <td>11.75</td>\n",
              "      <td>11</td>\n",
              "      <td>poor sleeper</td>\n",
              "      <td>2762</td>\n",
              "      <td>NaN</td>\n",
              "      <td>0</td>\n",
              "      <td>NaN</td>\n",
              "      <td>1</td>\n",
              "      <td>NaN</td>\n",
              "      <td>NaN</td>\n",
              "      <td>NaN</td>\n",
              "      <td>1</td>\n",
              "      <td>45 to 54</td>\n",
              "      <td>Male</td>\n",
              "      <td>iOS (Apple)</td>\n",
              "      <td>7</td>\n",
              "      <td>6</td>\n",
              "      <td>DAY 1</td>\n",
              "      <td></td>\n",
              "      <td>NaN</td>\n",
              "      <td>NaN</td>\n",
              "      <td>NaN</td>\n",
              "      <td>NaN</td>\n",
              "      <td>NaN</td>\n",
              "      <td>Yes</td>\n",
              "      <td>12</td>\n",
              "      <td>13</td>\n",
              "      <td>1</td>\n",
              "      <td>1</td>\n",
              "      <td>2</td>\n",
              "      <td>1</td>\n",
              "      <td>0</td>\n",
              "      <td>2</td>\n",
              "      <td>0</td>\n",
              "      <td>1</td>\n",
              "      <td>1</td>\n",
              "      <td>1</td>\n",
              "      <td>1</td>\n",
              "      <td>1</td>\n",
              "      <td>1</td>\n",
              "      <td>0</td>\n",
              "      <td>Day Shift</td>\n",
              "      <td>-0.223</td>\n",
              "      <td>-0.2549</td>\n",
              "      <td>-0.223</td>\n",
              "      <td>-0.2549</td>\n",
              "    </tr>\n",
              "    <tr>\n",
              "      <th>67</th>\n",
              "      <td>2830</td>\n",
              "      <td>0</td>\n",
              "      <td>NaN</td>\n",
              "      <td>8</td>\n",
              "      <td>3.5</td>\n",
              "      <td>good sleeper</td>\n",
              "      <td>2830</td>\n",
              "      <td>NaN</td>\n",
              "      <td>0</td>\n",
              "      <td>NaN</td>\n",
              "      <td>0</td>\n",
              "      <td>NaN</td>\n",
              "      <td>NaN</td>\n",
              "      <td>NaN</td>\n",
              "      <td>0</td>\n",
              "      <td>25 to 34</td>\n",
              "      <td>Male</td>\n",
              "      <td>Android</td>\n",
              "      <td>5</td>\n",
              "      <td>5</td>\n",
              "      <td>DAY 1</td>\n",
              "      <td>NaN</td>\n",
              "      <td>NaN</td>\n",
              "      <td>NaN</td>\n",
              "      <td>NaN</td>\n",
              "      <td>NaN</td>\n",
              "      <td>NaN</td>\n",
              "      <td>No</td>\n",
              "      <td>11</td>\n",
              "      <td>8</td>\n",
              "      <td>0</td>\n",
              "      <td>2</td>\n",
              "      <td>0</td>\n",
              "      <td>2</td>\n",
              "      <td>0</td>\n",
              "      <td>1</td>\n",
              "      <td>0</td>\n",
              "      <td>2</td>\n",
              "      <td>0</td>\n",
              "      <td>2</td>\n",
              "      <td>0</td>\n",
              "      <td>1</td>\n",
              "      <td>0</td>\n",
              "      <td>5</td>\n",
              "      <td>Day Shift</td>\n",
              "      <td>0.0035</td>\n",
              "      <td>0.03</td>\n",
              "      <td>NaN</td>\n",
              "      <td>NaN</td>\n",
              "    </tr>\n",
              "  </tbody>\n",
              "</table>\n",
              "</div>"
            ],
            "text/plain": [
              "0     ID  ... Groningen slope (people with first 4 Groningen average > 5)\n",
              "1   2417  ...                                                NaN         \n",
              "34  2762  ...                                            -0.2549         \n",
              "67  2830  ...                                                NaN         \n",
              "\n",
              "[3 rows x 49 columns]"
            ]
          },
          "metadata": {
            "tags": []
          },
          "execution_count": 28
        }
      ]
    },
    {
      "cell_type": "code",
      "metadata": {
        "id": "dbJXgEeykHSe",
        "colab_type": "code",
        "colab": {}
      },
      "source": [
        "cdf = main_df1[['ID','Overall sleep quality begin','Overall sleep quality end','Epworth','Groningen','Age','Gender']].copy()\n",
        "cdf = cdf.dropna()"
      ],
      "execution_count": 0,
      "outputs": []
    },
    {
      "cell_type": "code",
      "metadata": {
        "id": "YSjJqzy9-fQ2",
        "colab_type": "code",
        "outputId": "5101ba8d-6e1a-4812-bf74-d5ae5193233a",
        "colab": {
          "base_uri": "https://localhost:8080/",
          "height": 201
        }
      },
      "source": [
        "cdf.head()"
      ],
      "execution_count": 0,
      "outputs": [
        {
          "output_type": "execute_result",
          "data": {
            "text/html": [
              "<div>\n",
              "<style scoped>\n",
              "    .dataframe tbody tr th:only-of-type {\n",
              "        vertical-align: middle;\n",
              "    }\n",
              "\n",
              "    .dataframe tbody tr th {\n",
              "        vertical-align: top;\n",
              "    }\n",
              "\n",
              "    .dataframe thead th {\n",
              "        text-align: right;\n",
              "    }\n",
              "</style>\n",
              "<table border=\"1\" class=\"dataframe\">\n",
              "  <thead>\n",
              "    <tr style=\"text-align: right;\">\n",
              "      <th></th>\n",
              "      <th>ID</th>\n",
              "      <th>Overall sleep quality begin</th>\n",
              "      <th>Overall sleep quality end</th>\n",
              "      <th>Epworth</th>\n",
              "      <th>Groningen</th>\n",
              "      <th>Age</th>\n",
              "      <th>Gender</th>\n",
              "    </tr>\n",
              "  </thead>\n",
              "  <tbody>\n",
              "    <tr>\n",
              "      <th>34</th>\n",
              "      <td>2762</td>\n",
              "      <td>2</td>\n",
              "      <td>1</td>\n",
              "      <td>12</td>\n",
              "      <td>13</td>\n",
              "      <td>45 to 54</td>\n",
              "      <td>Male</td>\n",
              "    </tr>\n",
              "    <tr>\n",
              "      <th>67</th>\n",
              "      <td>2830</td>\n",
              "      <td>1</td>\n",
              "      <td>0</td>\n",
              "      <td>11</td>\n",
              "      <td>8</td>\n",
              "      <td>25 to 34</td>\n",
              "      <td>Male</td>\n",
              "    </tr>\n",
              "    <tr>\n",
              "      <th>100</th>\n",
              "      <td>2831</td>\n",
              "      <td>1</td>\n",
              "      <td>1</td>\n",
              "      <td>10</td>\n",
              "      <td>2</td>\n",
              "      <td>35 to 44</td>\n",
              "      <td>Male</td>\n",
              "    </tr>\n",
              "    <tr>\n",
              "      <th>133</th>\n",
              "      <td>2832</td>\n",
              "      <td>1</td>\n",
              "      <td>1</td>\n",
              "      <td>13</td>\n",
              "      <td>2</td>\n",
              "      <td>35 to 44</td>\n",
              "      <td>Male</td>\n",
              "    </tr>\n",
              "    <tr>\n",
              "      <th>199</th>\n",
              "      <td>2834</td>\n",
              "      <td>2</td>\n",
              "      <td>2</td>\n",
              "      <td>7</td>\n",
              "      <td>5</td>\n",
              "      <td>45 to 54</td>\n",
              "      <td>Male</td>\n",
              "    </tr>\n",
              "  </tbody>\n",
              "</table>\n",
              "</div>"
            ],
            "text/plain": [
              "0      ID Overall sleep quality begin  ...       Age Gender\n",
              "34   2762                           2  ...  45 to 54   Male\n",
              "67   2830                           1  ...  25 to 34   Male\n",
              "100  2831                           1  ...  35 to 44   Male\n",
              "133  2832                           1  ...  35 to 44   Male\n",
              "199  2834                           2  ...  45 to 54   Male\n",
              "\n",
              "[5 rows x 7 columns]"
            ]
          },
          "metadata": {
            "tags": []
          },
          "execution_count": 30
        }
      ]
    },
    {
      "cell_type": "code",
      "metadata": {
        "id": "ikbmyCTWl78i",
        "colab_type": "code",
        "outputId": "037d3fcd-839b-4a27-c280-82982cce2093",
        "colab": {
          "base_uri": "https://localhost:8080/",
          "height": 217
        }
      },
      "source": [
        "cdf = cdf[cdf.ID != 2845]\n",
        "cdf.reset_index(drop=True, inplace=True)\n",
        "print('Shape of cdf',':',cdf.shape)\n",
        "cdf.head()"
      ],
      "execution_count": 0,
      "outputs": [
        {
          "output_type": "stream",
          "text": [
            "Shape of cdf : (78, 7)\n"
          ],
          "name": "stdout"
        },
        {
          "output_type": "execute_result",
          "data": {
            "text/html": [
              "<div>\n",
              "<style scoped>\n",
              "    .dataframe tbody tr th:only-of-type {\n",
              "        vertical-align: middle;\n",
              "    }\n",
              "\n",
              "    .dataframe tbody tr th {\n",
              "        vertical-align: top;\n",
              "    }\n",
              "\n",
              "    .dataframe thead th {\n",
              "        text-align: right;\n",
              "    }\n",
              "</style>\n",
              "<table border=\"1\" class=\"dataframe\">\n",
              "  <thead>\n",
              "    <tr style=\"text-align: right;\">\n",
              "      <th></th>\n",
              "      <th>ID</th>\n",
              "      <th>Overall sleep quality begin</th>\n",
              "      <th>Overall sleep quality end</th>\n",
              "      <th>Epworth</th>\n",
              "      <th>Groningen</th>\n",
              "      <th>Age</th>\n",
              "      <th>Gender</th>\n",
              "    </tr>\n",
              "  </thead>\n",
              "  <tbody>\n",
              "    <tr>\n",
              "      <th>0</th>\n",
              "      <td>2762</td>\n",
              "      <td>2</td>\n",
              "      <td>1</td>\n",
              "      <td>12</td>\n",
              "      <td>13</td>\n",
              "      <td>45 to 54</td>\n",
              "      <td>Male</td>\n",
              "    </tr>\n",
              "    <tr>\n",
              "      <th>1</th>\n",
              "      <td>2830</td>\n",
              "      <td>1</td>\n",
              "      <td>0</td>\n",
              "      <td>11</td>\n",
              "      <td>8</td>\n",
              "      <td>25 to 34</td>\n",
              "      <td>Male</td>\n",
              "    </tr>\n",
              "    <tr>\n",
              "      <th>2</th>\n",
              "      <td>2831</td>\n",
              "      <td>1</td>\n",
              "      <td>1</td>\n",
              "      <td>10</td>\n",
              "      <td>2</td>\n",
              "      <td>35 to 44</td>\n",
              "      <td>Male</td>\n",
              "    </tr>\n",
              "    <tr>\n",
              "      <th>3</th>\n",
              "      <td>2832</td>\n",
              "      <td>1</td>\n",
              "      <td>1</td>\n",
              "      <td>13</td>\n",
              "      <td>2</td>\n",
              "      <td>35 to 44</td>\n",
              "      <td>Male</td>\n",
              "    </tr>\n",
              "    <tr>\n",
              "      <th>4</th>\n",
              "      <td>2834</td>\n",
              "      <td>2</td>\n",
              "      <td>2</td>\n",
              "      <td>7</td>\n",
              "      <td>5</td>\n",
              "      <td>45 to 54</td>\n",
              "      <td>Male</td>\n",
              "    </tr>\n",
              "  </tbody>\n",
              "</table>\n",
              "</div>"
            ],
            "text/plain": [
              "0    ID Overall sleep quality begin  ...       Age Gender\n",
              "0  2762                           2  ...  45 to 54   Male\n",
              "1  2830                           1  ...  25 to 34   Male\n",
              "2  2831                           1  ...  35 to 44   Male\n",
              "3  2832                           1  ...  35 to 44   Male\n",
              "4  2834                           2  ...  45 to 54   Male\n",
              "\n",
              "[5 rows x 7 columns]"
            ]
          },
          "metadata": {
            "tags": []
          },
          "execution_count": 31
        }
      ]
    },
    {
      "cell_type": "markdown",
      "metadata": {
        "id": "ZRwdf3M3X965",
        "colab_type": "text"
      },
      "source": [
        "Now I am going to concat my dfs I got from running my functions over all my user df."
      ]
    },
    {
      "cell_type": "code",
      "metadata": {
        "id": "CXOe-HUw9kUx",
        "colab_type": "code",
        "outputId": "39723ac6-c49c-4a25-c5fe-d82463cb6288",
        "colab": {
          "base_uri": "https://localhost:8080/",
          "height": 201
        }
      },
      "source": [
        "length_deep_results.reset_index(drop=True, inplace=True)\n",
        "length_deep_results.head()"
      ],
      "execution_count": 0,
      "outputs": [
        {
          "output_type": "execute_result",
          "data": {
            "text/html": [
              "<div>\n",
              "<style scoped>\n",
              "    .dataframe tbody tr th:only-of-type {\n",
              "        vertical-align: middle;\n",
              "    }\n",
              "\n",
              "    .dataframe tbody tr th {\n",
              "        vertical-align: top;\n",
              "    }\n",
              "\n",
              "    .dataframe thead th {\n",
              "        text-align: right;\n",
              "    }\n",
              "</style>\n",
              "<table border=\"1\" class=\"dataframe\">\n",
              "  <thead>\n",
              "    <tr style=\"text-align: right;\">\n",
              "      <th></th>\n",
              "      <th>User_ID</th>\n",
              "      <th>Mins Below Sleep Lvl 60</th>\n",
              "      <th>Avg Total Sleep</th>\n",
              "    </tr>\n",
              "  </thead>\n",
              "  <tbody>\n",
              "    <tr>\n",
              "      <th>0</th>\n",
              "      <td>2762</td>\n",
              "      <td>0.805462</td>\n",
              "      <td>323.664062</td>\n",
              "    </tr>\n",
              "    <tr>\n",
              "      <th>1</th>\n",
              "      <td>2830</td>\n",
              "      <td>0.552985</td>\n",
              "      <td>261.859375</td>\n",
              "    </tr>\n",
              "    <tr>\n",
              "      <th>2</th>\n",
              "      <td>2831</td>\n",
              "      <td>0.868158</td>\n",
              "      <td>348.437500</td>\n",
              "    </tr>\n",
              "    <tr>\n",
              "      <th>3</th>\n",
              "      <td>2832</td>\n",
              "      <td>0.908442</td>\n",
              "      <td>349.773438</td>\n",
              "    </tr>\n",
              "    <tr>\n",
              "      <th>4</th>\n",
              "      <td>2834</td>\n",
              "      <td>0.752747</td>\n",
              "      <td>308.101562</td>\n",
              "    </tr>\n",
              "  </tbody>\n",
              "</table>\n",
              "</div>"
            ],
            "text/plain": [
              "   User_ID  Mins Below Sleep Lvl 60  Avg Total Sleep\n",
              "0     2762                 0.805462       323.664062\n",
              "1     2830                 0.552985       261.859375\n",
              "2     2831                 0.868158       348.437500\n",
              "3     2832                 0.908442       349.773438\n",
              "4     2834                 0.752747       308.101562"
            ]
          },
          "metadata": {
            "tags": []
          },
          "execution_count": 32
        }
      ]
    },
    {
      "cell_type": "code",
      "metadata": {
        "id": "HMZWIXXMX9R2",
        "colab_type": "code",
        "outputId": "69315002-ef9e-4f8f-e3c1-59152f4f1825",
        "colab": {
          "base_uri": "https://localhost:8080/",
          "height": 354
        }
      },
      "source": [
        "cdf = pd.concat([length_deep_results,cdf],axis=1)\n",
        "cdf.head(10)"
      ],
      "execution_count": 0,
      "outputs": [
        {
          "output_type": "execute_result",
          "data": {
            "text/html": [
              "<div>\n",
              "<style scoped>\n",
              "    .dataframe tbody tr th:only-of-type {\n",
              "        vertical-align: middle;\n",
              "    }\n",
              "\n",
              "    .dataframe tbody tr th {\n",
              "        vertical-align: top;\n",
              "    }\n",
              "\n",
              "    .dataframe thead th {\n",
              "        text-align: right;\n",
              "    }\n",
              "</style>\n",
              "<table border=\"1\" class=\"dataframe\">\n",
              "  <thead>\n",
              "    <tr style=\"text-align: right;\">\n",
              "      <th></th>\n",
              "      <th>User_ID</th>\n",
              "      <th>Mins Below Sleep Lvl 60</th>\n",
              "      <th>Avg Total Sleep</th>\n",
              "      <th>ID</th>\n",
              "      <th>Overall sleep quality begin</th>\n",
              "      <th>Overall sleep quality end</th>\n",
              "      <th>Epworth</th>\n",
              "      <th>Groningen</th>\n",
              "      <th>Age</th>\n",
              "      <th>Gender</th>\n",
              "    </tr>\n",
              "  </thead>\n",
              "  <tbody>\n",
              "    <tr>\n",
              "      <th>0</th>\n",
              "      <td>2762</td>\n",
              "      <td>0.805462</td>\n",
              "      <td>323.664062</td>\n",
              "      <td>2762</td>\n",
              "      <td>2</td>\n",
              "      <td>1</td>\n",
              "      <td>12</td>\n",
              "      <td>13</td>\n",
              "      <td>45 to 54</td>\n",
              "      <td>Male</td>\n",
              "    </tr>\n",
              "    <tr>\n",
              "      <th>1</th>\n",
              "      <td>2830</td>\n",
              "      <td>0.552985</td>\n",
              "      <td>261.859375</td>\n",
              "      <td>2830</td>\n",
              "      <td>1</td>\n",
              "      <td>0</td>\n",
              "      <td>11</td>\n",
              "      <td>8</td>\n",
              "      <td>25 to 34</td>\n",
              "      <td>Male</td>\n",
              "    </tr>\n",
              "    <tr>\n",
              "      <th>2</th>\n",
              "      <td>2831</td>\n",
              "      <td>0.868158</td>\n",
              "      <td>348.437500</td>\n",
              "      <td>2831</td>\n",
              "      <td>1</td>\n",
              "      <td>1</td>\n",
              "      <td>10</td>\n",
              "      <td>2</td>\n",
              "      <td>35 to 44</td>\n",
              "      <td>Male</td>\n",
              "    </tr>\n",
              "    <tr>\n",
              "      <th>3</th>\n",
              "      <td>2832</td>\n",
              "      <td>0.908442</td>\n",
              "      <td>349.773438</td>\n",
              "      <td>2832</td>\n",
              "      <td>1</td>\n",
              "      <td>1</td>\n",
              "      <td>13</td>\n",
              "      <td>2</td>\n",
              "      <td>35 to 44</td>\n",
              "      <td>Male</td>\n",
              "    </tr>\n",
              "    <tr>\n",
              "      <th>4</th>\n",
              "      <td>2834</td>\n",
              "      <td>0.752747</td>\n",
              "      <td>308.101562</td>\n",
              "      <td>2834</td>\n",
              "      <td>2</td>\n",
              "      <td>2</td>\n",
              "      <td>7</td>\n",
              "      <td>5</td>\n",
              "      <td>45 to 54</td>\n",
              "      <td>Male</td>\n",
              "    </tr>\n",
              "    <tr>\n",
              "      <th>5</th>\n",
              "      <td>2835</td>\n",
              "      <td>0.572118</td>\n",
              "      <td>245.429688</td>\n",
              "      <td>2835</td>\n",
              "      <td>3</td>\n",
              "      <td>2</td>\n",
              "      <td>11</td>\n",
              "      <td>3</td>\n",
              "      <td>45 to 54</td>\n",
              "      <td>Male</td>\n",
              "    </tr>\n",
              "    <tr>\n",
              "      <th>6</th>\n",
              "      <td>2836</td>\n",
              "      <td>1.179656</td>\n",
              "      <td>473.921875</td>\n",
              "      <td>2836</td>\n",
              "      <td>3</td>\n",
              "      <td>2</td>\n",
              "      <td>20</td>\n",
              "      <td>5</td>\n",
              "      <td>35 to 44</td>\n",
              "      <td>Male</td>\n",
              "    </tr>\n",
              "    <tr>\n",
              "      <th>7</th>\n",
              "      <td>2838</td>\n",
              "      <td>0.907397</td>\n",
              "      <td>336.195312</td>\n",
              "      <td>2838</td>\n",
              "      <td>1</td>\n",
              "      <td>2</td>\n",
              "      <td>7</td>\n",
              "      <td>9</td>\n",
              "      <td>45 to 54</td>\n",
              "      <td>Male</td>\n",
              "    </tr>\n",
              "    <tr>\n",
              "      <th>8</th>\n",
              "      <td>2842</td>\n",
              "      <td>1.192556</td>\n",
              "      <td>456.828125</td>\n",
              "      <td>2842</td>\n",
              "      <td>1</td>\n",
              "      <td>1</td>\n",
              "      <td>10</td>\n",
              "      <td>5</td>\n",
              "      <td>25 to 34</td>\n",
              "      <td>Female</td>\n",
              "    </tr>\n",
              "    <tr>\n",
              "      <th>9</th>\n",
              "      <td>2846</td>\n",
              "      <td>0.401794</td>\n",
              "      <td>321.343750</td>\n",
              "      <td>2846</td>\n",
              "      <td>2</td>\n",
              "      <td>1</td>\n",
              "      <td>2</td>\n",
              "      <td>6</td>\n",
              "      <td>45 to 54</td>\n",
              "      <td>Female</td>\n",
              "    </tr>\n",
              "  </tbody>\n",
              "</table>\n",
              "</div>"
            ],
            "text/plain": [
              "   User_ID  Mins Below Sleep Lvl 60  ...       Age  Gender\n",
              "0     2762                 0.805462  ...  45 to 54    Male\n",
              "1     2830                 0.552985  ...  25 to 34    Male\n",
              "2     2831                 0.868158  ...  35 to 44    Male\n",
              "3     2832                 0.908442  ...  35 to 44    Male\n",
              "4     2834                 0.752747  ...  45 to 54    Male\n",
              "5     2835                 0.572118  ...  45 to 54    Male\n",
              "6     2836                 1.179656  ...  35 to 44    Male\n",
              "7     2838                 0.907397  ...  45 to 54    Male\n",
              "8     2842                 1.192556  ...  25 to 34  Female\n",
              "9     2846                 0.401794  ...  45 to 54  Female\n",
              "\n",
              "[10 rows x 10 columns]"
            ]
          },
          "metadata": {
            "tags": []
          },
          "execution_count": 33
        }
      ]
    },
    {
      "cell_type": "markdown",
      "metadata": {
        "id": "_ejE7_kXwi9d",
        "colab_type": "text"
      },
      "source": [
        "Label enconding my non numerical columns"
      ]
    },
    {
      "cell_type": "code",
      "metadata": {
        "id": "OkhqfsJNnzIK",
        "colab_type": "code",
        "colab": {}
      },
      "source": [
        "from sklearn.preprocessing import LabelEncoder\n",
        "le = LabelEncoder()\n",
        "le.fit(cdf['Age'])\n",
        "cdf['Age Processed'] = le.transform(cdf['Age'])"
      ],
      "execution_count": 0,
      "outputs": []
    },
    {
      "cell_type": "code",
      "metadata": {
        "id": "C3pxm07fpqH6",
        "colab_type": "code",
        "colab": {}
      },
      "source": [
        "le.fit(cdf['Gender'])\n",
        "cdf['Gender Processed'] = le.transform(cdf['Gender'])"
      ],
      "execution_count": 0,
      "outputs": []
    },
    {
      "cell_type": "code",
      "metadata": {
        "id": "XyncVZthfa2l",
        "colab_type": "code",
        "outputId": "06e54cca-8e8a-4363-c170-a4724ddc36be",
        "colab": {
          "base_uri": "https://localhost:8080/",
          "height": 316
        }
      },
      "source": [
        "print('Shape of new cdf',':',cdf.shape)\n",
        "cdf.head()"
      ],
      "execution_count": 0,
      "outputs": [
        {
          "output_type": "stream",
          "text": [
            "Shape of new cdf : (78, 12)\n"
          ],
          "name": "stdout"
        },
        {
          "output_type": "execute_result",
          "data": {
            "text/html": [
              "<div>\n",
              "<style scoped>\n",
              "    .dataframe tbody tr th:only-of-type {\n",
              "        vertical-align: middle;\n",
              "    }\n",
              "\n",
              "    .dataframe tbody tr th {\n",
              "        vertical-align: top;\n",
              "    }\n",
              "\n",
              "    .dataframe thead th {\n",
              "        text-align: right;\n",
              "    }\n",
              "</style>\n",
              "<table border=\"1\" class=\"dataframe\">\n",
              "  <thead>\n",
              "    <tr style=\"text-align: right;\">\n",
              "      <th></th>\n",
              "      <th>User_ID</th>\n",
              "      <th>Mins Below Sleep Lvl 60</th>\n",
              "      <th>Avg Total Sleep</th>\n",
              "      <th>ID</th>\n",
              "      <th>Overall sleep quality begin</th>\n",
              "      <th>Overall sleep quality end</th>\n",
              "      <th>Epworth</th>\n",
              "      <th>Groningen</th>\n",
              "      <th>Age</th>\n",
              "      <th>Gender</th>\n",
              "      <th>Age Processed</th>\n",
              "      <th>Gender Processed</th>\n",
              "    </tr>\n",
              "  </thead>\n",
              "  <tbody>\n",
              "    <tr>\n",
              "      <th>0</th>\n",
              "      <td>2762</td>\n",
              "      <td>0.805462</td>\n",
              "      <td>323.664062</td>\n",
              "      <td>2762</td>\n",
              "      <td>2</td>\n",
              "      <td>1</td>\n",
              "      <td>12</td>\n",
              "      <td>13</td>\n",
              "      <td>45 to 54</td>\n",
              "      <td>Male</td>\n",
              "      <td>3</td>\n",
              "      <td>1</td>\n",
              "    </tr>\n",
              "    <tr>\n",
              "      <th>1</th>\n",
              "      <td>2830</td>\n",
              "      <td>0.552985</td>\n",
              "      <td>261.859375</td>\n",
              "      <td>2830</td>\n",
              "      <td>1</td>\n",
              "      <td>0</td>\n",
              "      <td>11</td>\n",
              "      <td>8</td>\n",
              "      <td>25 to 34</td>\n",
              "      <td>Male</td>\n",
              "      <td>1</td>\n",
              "      <td>1</td>\n",
              "    </tr>\n",
              "    <tr>\n",
              "      <th>2</th>\n",
              "      <td>2831</td>\n",
              "      <td>0.868158</td>\n",
              "      <td>348.437500</td>\n",
              "      <td>2831</td>\n",
              "      <td>1</td>\n",
              "      <td>1</td>\n",
              "      <td>10</td>\n",
              "      <td>2</td>\n",
              "      <td>35 to 44</td>\n",
              "      <td>Male</td>\n",
              "      <td>2</td>\n",
              "      <td>1</td>\n",
              "    </tr>\n",
              "    <tr>\n",
              "      <th>3</th>\n",
              "      <td>2832</td>\n",
              "      <td>0.908442</td>\n",
              "      <td>349.773438</td>\n",
              "      <td>2832</td>\n",
              "      <td>1</td>\n",
              "      <td>1</td>\n",
              "      <td>13</td>\n",
              "      <td>2</td>\n",
              "      <td>35 to 44</td>\n",
              "      <td>Male</td>\n",
              "      <td>2</td>\n",
              "      <td>1</td>\n",
              "    </tr>\n",
              "    <tr>\n",
              "      <th>4</th>\n",
              "      <td>2834</td>\n",
              "      <td>0.752747</td>\n",
              "      <td>308.101562</td>\n",
              "      <td>2834</td>\n",
              "      <td>2</td>\n",
              "      <td>2</td>\n",
              "      <td>7</td>\n",
              "      <td>5</td>\n",
              "      <td>45 to 54</td>\n",
              "      <td>Male</td>\n",
              "      <td>3</td>\n",
              "      <td>1</td>\n",
              "    </tr>\n",
              "  </tbody>\n",
              "</table>\n",
              "</div>"
            ],
            "text/plain": [
              "   User_ID  Mins Below Sleep Lvl 60  ...  Age Processed Gender Processed\n",
              "0     2762                 0.805462  ...              3                1\n",
              "1     2830                 0.552985  ...              1                1\n",
              "2     2831                 0.868158  ...              2                1\n",
              "3     2832                 0.908442  ...              2                1\n",
              "4     2834                 0.752747  ...              3                1\n",
              "\n",
              "[5 rows x 12 columns]"
            ]
          },
          "metadata": {
            "tags": []
          },
          "execution_count": 36
        }
      ]
    },
    {
      "cell_type": "code",
      "metadata": {
        "id": "KA2joy2EwP8d",
        "colab_type": "code",
        "outputId": "6a40e6d4-1b50-4ab8-9086-53e9798667bb",
        "colab": {
          "base_uri": "https://localhost:8080/",
          "height": 201
        }
      },
      "source": [
        "model_cdf = cdf.drop(columns=['User_ID','ID','Age','Gender','Age Processed','Gender Processed'], axis=1)\n",
        "model_cdf.head()"
      ],
      "execution_count": 0,
      "outputs": [
        {
          "output_type": "execute_result",
          "data": {
            "text/html": [
              "<div>\n",
              "<style scoped>\n",
              "    .dataframe tbody tr th:only-of-type {\n",
              "        vertical-align: middle;\n",
              "    }\n",
              "\n",
              "    .dataframe tbody tr th {\n",
              "        vertical-align: top;\n",
              "    }\n",
              "\n",
              "    .dataframe thead th {\n",
              "        text-align: right;\n",
              "    }\n",
              "</style>\n",
              "<table border=\"1\" class=\"dataframe\">\n",
              "  <thead>\n",
              "    <tr style=\"text-align: right;\">\n",
              "      <th></th>\n",
              "      <th>Mins Below Sleep Lvl 60</th>\n",
              "      <th>Avg Total Sleep</th>\n",
              "      <th>Overall sleep quality begin</th>\n",
              "      <th>Overall sleep quality end</th>\n",
              "      <th>Epworth</th>\n",
              "      <th>Groningen</th>\n",
              "    </tr>\n",
              "  </thead>\n",
              "  <tbody>\n",
              "    <tr>\n",
              "      <th>0</th>\n",
              "      <td>0.805462</td>\n",
              "      <td>323.664062</td>\n",
              "      <td>2</td>\n",
              "      <td>1</td>\n",
              "      <td>12</td>\n",
              "      <td>13</td>\n",
              "    </tr>\n",
              "    <tr>\n",
              "      <th>1</th>\n",
              "      <td>0.552985</td>\n",
              "      <td>261.859375</td>\n",
              "      <td>1</td>\n",
              "      <td>0</td>\n",
              "      <td>11</td>\n",
              "      <td>8</td>\n",
              "    </tr>\n",
              "    <tr>\n",
              "      <th>2</th>\n",
              "      <td>0.868158</td>\n",
              "      <td>348.437500</td>\n",
              "      <td>1</td>\n",
              "      <td>1</td>\n",
              "      <td>10</td>\n",
              "      <td>2</td>\n",
              "    </tr>\n",
              "    <tr>\n",
              "      <th>3</th>\n",
              "      <td>0.908442</td>\n",
              "      <td>349.773438</td>\n",
              "      <td>1</td>\n",
              "      <td>1</td>\n",
              "      <td>13</td>\n",
              "      <td>2</td>\n",
              "    </tr>\n",
              "    <tr>\n",
              "      <th>4</th>\n",
              "      <td>0.752747</td>\n",
              "      <td>308.101562</td>\n",
              "      <td>2</td>\n",
              "      <td>2</td>\n",
              "      <td>7</td>\n",
              "      <td>5</td>\n",
              "    </tr>\n",
              "  </tbody>\n",
              "</table>\n",
              "</div>"
            ],
            "text/plain": [
              "   Mins Below Sleep Lvl 60  Avg Total Sleep  ... Epworth Groningen\n",
              "0                 0.805462       323.664062  ...      12        13\n",
              "1                 0.552985       261.859375  ...      11         8\n",
              "2                 0.868158       348.437500  ...      10         2\n",
              "3                 0.908442       349.773438  ...      13         2\n",
              "4                 0.752747       308.101562  ...       7         5\n",
              "\n",
              "[5 rows x 6 columns]"
            ]
          },
          "metadata": {
            "tags": []
          },
          "execution_count": 37
        }
      ]
    },
    {
      "cell_type": "markdown",
      "metadata": {
        "id": "w6AHhldtFkRO",
        "colab_type": "text"
      },
      "source": [
        "Before I move my dataframe into clusters I will normalize the data so they can cluster on a even scale."
      ]
    },
    {
      "cell_type": "code",
      "metadata": {
        "id": "0xZGVA4WzfzJ",
        "colab_type": "code",
        "outputId": "95a93d2e-ed5d-4d21-f4b3-b83439593d3a",
        "colab": {
          "base_uri": "https://localhost:8080/",
          "height": 201
        }
      },
      "source": [
        "from sklearn.preprocessing import normalize\n",
        "model_scaled = normalize(model_cdf)\n",
        "model_scaled = pd.DataFrame(model_scaled, columns=model_cdf.columns)\n",
        "model_scaled.head()"
      ],
      "execution_count": 0,
      "outputs": [
        {
          "output_type": "execute_result",
          "data": {
            "text/html": [
              "<div>\n",
              "<style scoped>\n",
              "    .dataframe tbody tr th:only-of-type {\n",
              "        vertical-align: middle;\n",
              "    }\n",
              "\n",
              "    .dataframe tbody tr th {\n",
              "        vertical-align: top;\n",
              "    }\n",
              "\n",
              "    .dataframe thead th {\n",
              "        text-align: right;\n",
              "    }\n",
              "</style>\n",
              "<table border=\"1\" class=\"dataframe\">\n",
              "  <thead>\n",
              "    <tr style=\"text-align: right;\">\n",
              "      <th></th>\n",
              "      <th>Mins Below Sleep Lvl 60</th>\n",
              "      <th>Avg Total Sleep</th>\n",
              "      <th>Overall sleep quality begin</th>\n",
              "      <th>Overall sleep quality end</th>\n",
              "      <th>Epworth</th>\n",
              "      <th>Groningen</th>\n",
              "    </tr>\n",
              "  </thead>\n",
              "  <tbody>\n",
              "    <tr>\n",
              "      <th>0</th>\n",
              "      <td>0.002485</td>\n",
              "      <td>0.998483</td>\n",
              "      <td>0.006170</td>\n",
              "      <td>0.003085</td>\n",
              "      <td>0.037019</td>\n",
              "      <td>0.040104</td>\n",
              "    </tr>\n",
              "    <tr>\n",
              "      <th>1</th>\n",
              "      <td>0.002109</td>\n",
              "      <td>0.998644</td>\n",
              "      <td>0.003814</td>\n",
              "      <td>0.000000</td>\n",
              "      <td>0.041950</td>\n",
              "      <td>0.030509</td>\n",
              "    </tr>\n",
              "    <tr>\n",
              "      <th>2</th>\n",
              "      <td>0.002490</td>\n",
              "      <td>0.999561</td>\n",
              "      <td>0.002869</td>\n",
              "      <td>0.002869</td>\n",
              "      <td>0.028687</td>\n",
              "      <td>0.005737</td>\n",
              "    </tr>\n",
              "    <tr>\n",
              "      <th>3</th>\n",
              "      <td>0.002595</td>\n",
              "      <td>0.999282</td>\n",
              "      <td>0.002857</td>\n",
              "      <td>0.002857</td>\n",
              "      <td>0.037140</td>\n",
              "      <td>0.005714</td>\n",
              "    </tr>\n",
              "    <tr>\n",
              "      <th>4</th>\n",
              "      <td>0.002442</td>\n",
              "      <td>0.999565</td>\n",
              "      <td>0.006489</td>\n",
              "      <td>0.006489</td>\n",
              "      <td>0.022710</td>\n",
              "      <td>0.016221</td>\n",
              "    </tr>\n",
              "  </tbody>\n",
              "</table>\n",
              "</div>"
            ],
            "text/plain": [
              "   Mins Below Sleep Lvl 60  Avg Total Sleep  ...   Epworth  Groningen\n",
              "0                 0.002485         0.998483  ...  0.037019   0.040104\n",
              "1                 0.002109         0.998644  ...  0.041950   0.030509\n",
              "2                 0.002490         0.999561  ...  0.028687   0.005737\n",
              "3                 0.002595         0.999282  ...  0.037140   0.005714\n",
              "4                 0.002442         0.999565  ...  0.022710   0.016221\n",
              "\n",
              "[5 rows x 6 columns]"
            ]
          },
          "metadata": {
            "tags": []
          },
          "execution_count": 38
        }
      ]
    },
    {
      "cell_type": "markdown",
      "metadata": {
        "id": "qpbzL5Wpf2k6",
        "colab_type": "text"
      },
      "source": [
        "## K mean Cluster Graph"
      ]
    },
    {
      "cell_type": "markdown",
      "metadata": {
        "id": "WMUybiFlWKba",
        "colab_type": "text"
      },
      "source": [
        "We will first test our data in a K-Means clustering graph which takes data and clusters them based on certain similarites."
      ]
    },
    {
      "cell_type": "code",
      "metadata": {
        "id": "eIguXG5wvScl",
        "colab_type": "code",
        "outputId": "c863998c-9aaf-413d-f745-d2992a401882",
        "colab": {
          "base_uri": "https://localhost:8080/",
          "height": 49
        }
      },
      "source": [
        "from sklearn.cluster import KMeans\n",
        "k_cluster = KMeans(n_clusters=3).fit(model_scaled)\n",
        "y_pred=k_cluster.predict(model_scaled)\n",
        "print(k_cluster.cluster_centers_.shape)\n",
        "print(k_cluster.labels_.shape)"
      ],
      "execution_count": 0,
      "outputs": [
        {
          "output_type": "stream",
          "text": [
            "(3, 6)\n",
            "(78,)\n"
          ],
          "name": "stdout"
        }
      ]
    },
    {
      "cell_type": "code",
      "metadata": {
        "id": "owW8smHshiNY",
        "colab_type": "code",
        "outputId": "a13b7524-68d0-45f2-f0aa-1c415b9a6974",
        "colab": {
          "base_uri": "https://localhost:8080/",
          "height": 32
        }
      },
      "source": [
        "sleep_cluster = k_cluster.cluster_centers_[k_cluster.labels_]\n",
        "sleep_cluster.shape"
      ],
      "execution_count": 0,
      "outputs": [
        {
          "output_type": "execute_result",
          "data": {
            "text/plain": [
              "(78, 6)"
            ]
          },
          "metadata": {
            "tags": []
          },
          "execution_count": 40
        }
      ]
    },
    {
      "cell_type": "markdown",
      "metadata": {
        "id": "AV1KBgdKYHjL",
        "colab_type": "text"
      },
      "source": [
        "Now in the graph below I will create an elbow plot to show after what number of clusters do I get the most variation. This plot shows that after about 2 clusters the K-means doesnt change much."
      ]
    },
    {
      "cell_type": "code",
      "metadata": {
        "id": "vbLoJShPk7Cg",
        "colab_type": "code",
        "outputId": "4ef9ea08-df6a-4f13-f7c5-a5c077a9869a",
        "colab": {
          "base_uri": "https://localhost:8080/",
          "height": 294
        }
      },
      "source": [
        "Error =[]\n",
        "for i in range(1, 11):\n",
        "    kmeans = KMeans(n_clusters = i).fit(model_scaled)\n",
        "    kmeans.fit(model_scaled)\n",
        "    Error.append(kmeans.inertia_)\n",
        "import matplotlib.pyplot as plt\n",
        "plt.plot(range(1, 11), Error)\n",
        "plt.title('Elbow method')\n",
        "plt.xlabel('No of clusters')\n",
        "plt.ylabel('Error')\n",
        "plt.show()"
      ],
      "execution_count": 0,
      "outputs": [
        {
          "output_type": "display_data",
          "data": {
            "image/png": "[encoded data removed]",
            "text/plain": [
              "<Figure size 432x288 with 1 Axes>"
            ]
          },
          "metadata": {
            "tags": [],
            "needs_background": "light"
          }
        }
      ]
    },
    {
      "cell_type": "code",
      "metadata": {
        "id": "nZrrIEhm9qkR",
        "colab_type": "code",
        "outputId": "2c3bd101-088f-4232-c100-39625a6d608c",
        "colab": {
          "base_uri": "https://localhost:8080/",
          "height": 390
        }
      },
      "source": [
        "plt.figure(figsize=(8,6))  \n",
        "plt.scatter(model_scaled['Avg Total Sleep'], model_scaled['Mins Below Sleep Lvl 60'], c=k_cluster.labels_)\n",
        "plt.title('Average Total Sleep vs Deep Sleep Clusters', fontsize=15);"
      ],
      "execution_count": 0,
      "outputs": [
        {
          "output_type": "display_data",
          "data": {
            "image/png": "[encoded data removed]",
            "text/plain": [
              "<Figure size 576x432 with 1 Axes>"
            ]
          },
          "metadata": {
            "tags": [],
            "needs_background": "light"
          }
        }
      ]
    },
    {
      "cell_type": "markdown",
      "metadata": {
        "id": "FrewEGRaZQix",
        "colab_type": "text"
      },
      "source": [
        "The graph above shows that most of the data circles around each other in 2-Dimensions but we can try and see if the data has a more non-linear interaction."
      ]
    },
    {
      "cell_type": "markdown",
      "metadata": {
        "id": "jnDvIzWF-35G",
        "colab_type": "text"
      },
      "source": [
        "## Principal Component Analysis clustering "
      ]
    },
    {
      "cell_type": "markdown",
      "metadata": {
        "id": "BiIlQfclZ1aK",
        "colab_type": "text"
      },
      "source": [
        "Principal Component Analysis is another type of unsuprvised machine learning which can be used to visualize data in a higher dimension. But PCA uses linear projections to make low-dimensional clusters."
      ]
    },
    {
      "cell_type": "code",
      "metadata": {
        "id": "1803ih2L-7yK",
        "colab_type": "code",
        "colab": {}
      },
      "source": [
        "from sklearn.decomposition import PCA\n",
        "\n",
        "pca = PCA(n_components=4)\n",
        "pca_result = pca.fit_transform(model_scaled)"
      ],
      "execution_count": 0,
      "outputs": []
    },
    {
      "cell_type": "code",
      "metadata": {
        "id": "lkHLtZir_JUw",
        "colab_type": "code",
        "outputId": "10014811-a0e0-4d6b-e5fb-8265824b2745",
        "colab": {
          "base_uri": "https://localhost:8080/",
          "height": 49
        }
      },
      "source": [
        "eVectors = pca.components_\n",
        "eVectors[2,]"
      ],
      "execution_count": 0,
      "outputs": [
        {
          "output_type": "execute_result",
          "data": {
            "text/plain": [
              "array([-0.00691513, -0.008556  ,  0.84711025,  0.50741078, -0.11662683,\n",
              "       -0.10590411])"
            ]
          },
          "metadata": {
            "tags": []
          },
          "execution_count": 44
        }
      ]
    },
    {
      "cell_type": "markdown",
      "metadata": {
        "id": "lQ71GLK3bw0e",
        "colab_type": "text"
      },
      "source": [
        "So using PCD from sklearn , I create the components I need for my clustering."
      ]
    },
    {
      "cell_type": "code",
      "metadata": {
        "colab_type": "code",
        "outputId": "462ec6ec-66ec-4497-e0f0-704e5d895392",
        "id": "htHzg9zMZpT7",
        "colab": {
          "base_uri": "https://localhost:8080/",
          "height": 82
        }
      },
      "source": [
        "model_scaled.columns"
      ],
      "execution_count": 0,
      "outputs": [
        {
          "output_type": "execute_result",
          "data": {
            "text/plain": [
              "Index(['Mins Below Sleep Lvl 60', 'Avg Total Sleep',\n",
              "       'Overall sleep quality begin', 'Overall sleep quality end', 'Epworth',\n",
              "       'Groningen'],\n",
              "      dtype='object')"
            ]
          },
          "metadata": {
            "tags": []
          },
          "execution_count": 45
        }
      ]
    },
    {
      "cell_type": "markdown",
      "metadata": {
        "id": "KBOvCoircIZa",
        "colab_type": "text"
      },
      "source": [
        "This code will take the 4 Pca components I created from my model_scaled df and show the variance between them."
      ]
    },
    {
      "cell_type": "code",
      "metadata": {
        "id": "nphr5obs_VpR",
        "colab_type": "code",
        "outputId": "b815925e-7fb7-4c59-f0b7-50e21c899b1f",
        "colab": {
          "base_uri": "https://localhost:8080/",
          "height": 32
        }
      },
      "source": [
        "pca_df = pd.DataFrame(columns = ['pca1','pca2','pca3','pca4'])\n",
        "\n",
        "pca_df['pca1'] = pca_result[:,0]\n",
        "pca_df['pca2'] = pca_result[:,1]\n",
        "pca_df['pca3'] = pca_result[:,2]\n",
        "pca_df['pca4'] = pca_result[:,3]\n",
        "\n",
        "print('Variance explained per principal component: {}'.format(pca.explained_variance_ratio_))"
      ],
      "execution_count": 0,
      "outputs": [
        {
          "output_type": "stream",
          "text": [
            "Variance explained per principal component: [0.57722534 0.38510149 0.03090211 0.00595254]\n"
          ],
          "name": "stdout"
        }
      ]
    },
    {
      "cell_type": "code",
      "metadata": {
        "id": "EM3kKYJ81MBS",
        "colab_type": "code",
        "colab": {}
      },
      "source": [
        "from sklearn.cluster import AgglomerativeClustering\n",
        "cluster = AgglomerativeClustering(n_clusters=4, affinity='euclidean', linkage='ward')  \n",
        "clusterNums = pd.Series(cluster.fit_predict(model_scaled))"
      ],
      "execution_count": 0,
      "outputs": []
    },
    {
      "cell_type": "code",
      "metadata": {
        "id": "SQa0EYkr_YyO",
        "colab_type": "code",
        "outputId": "257e1d60-5ad6-48ae-9071-dd95b35aedce",
        "colab": {
          "base_uri": "https://localhost:8080/",
          "height": 411
        }
      },
      "source": [
        "top_two_comp = pca_df[['pca1','pca2']]\n",
        "comp_DF = pd.concat([top_two_comp, clusterNums],axis=1)\n",
        "comp_DF.columns = ['pca1','pca2','clusterNums']\n",
        "\n",
        "plt.figure(figsize=[8,6])\n",
        "g =sns.scatterplot(x=\"pca1\", y=\"pca2\", hue=\"clusterNums\", data=comp_DF,palette=['green','orange','dodgerblue','red'])\n",
        "plt.title('PCA Sleep Data Clustering', fontsize=25);"
      ],
      "execution_count": 0,
      "outputs": [
        {
          "output_type": "display_data",
          "data": {
            "image/png": "[encoded data removed]",
            "text/plain": [
              "<Figure size 576x432 with 1 Axes>"
            ]
          },
          "metadata": {
            "tags": [],
            "needs_background": "light"
          }
        }
      ]
    },
    {
      "cell_type": "markdown",
      "metadata": {
        "id": "ISCmTXgqciiS",
        "colab_type": "text"
      },
      "source": [
        "This scatterplot of my data is made in a non-linear space, which shows how my sleep data clusters outside of 2 dimensions. "
      ]
    },
    {
      "cell_type": "markdown",
      "metadata": {
        "id": "BUWjc5_uf_ZV",
        "colab_type": "text"
      },
      "source": [
        "## t-SNE clustering"
      ]
    },
    {
      "cell_type": "markdown",
      "metadata": {
        "id": "VHUwzHHRdhAG",
        "colab_type": "text"
      },
      "source": [
        "t-SNE like PCA , uses relations between points to create low-dimensional mapping.Unlike PCA it uses gaussian distribution (which shows the mean of the datas distribution) so it can link non-linear correlations in data. "
      ]
    },
    {
      "cell_type": "code",
      "metadata": {
        "id": "SRSC2-foACv2",
        "colab_type": "code",
        "colab": {}
      },
      "source": [
        "from sklearn.manifold import TSNE\n",
        "\n",
        "comp_tsne = TSNE(random_state=123).fit_transform(model_scaled)"
      ],
      "execution_count": 0,
      "outputs": []
    },
    {
      "cell_type": "markdown",
      "metadata": {
        "id": "QquQGofjezMm",
        "colab_type": "text"
      },
      "source": [
        "First, I need to transform my data so that it can be plotted along 2 dimensions "
      ]
    },
    {
      "cell_type": "code",
      "metadata": {
        "id": "xT-n6Qrx_80o",
        "colab_type": "code",
        "outputId": "c6862da7-b291-42d2-895a-542b49137757",
        "colab": {
          "base_uri": "https://localhost:8080/",
          "height": 201
        }
      },
      "source": [
        "tsne_DF = pd.concat([pd.DataFrame(comp_tsne), clusterNums],axis=1)\n",
        "tsne_DF.columns = ['dim1','dim2','clusterNums']\n",
        "tsne_DF.head()"
      ],
      "execution_count": 0,
      "outputs": [
        {
          "output_type": "execute_result",
          "data": {
            "text/html": [
              "<div>\n",
              "<style scoped>\n",
              "    .dataframe tbody tr th:only-of-type {\n",
              "        vertical-align: middle;\n",
              "    }\n",
              "\n",
              "    .dataframe tbody tr th {\n",
              "        vertical-align: top;\n",
              "    }\n",
              "\n",
              "    .dataframe thead th {\n",
              "        text-align: right;\n",
              "    }\n",
              "</style>\n",
              "<table border=\"1\" class=\"dataframe\">\n",
              "  <thead>\n",
              "    <tr style=\"text-align: right;\">\n",
              "      <th></th>\n",
              "      <th>dim1</th>\n",
              "      <th>dim2</th>\n",
              "      <th>clusterNums</th>\n",
              "    </tr>\n",
              "  </thead>\n",
              "  <tbody>\n",
              "    <tr>\n",
              "      <th>0</th>\n",
              "      <td>-60.353527</td>\n",
              "      <td>11.661450</td>\n",
              "      <td>1</td>\n",
              "    </tr>\n",
              "    <tr>\n",
              "      <th>1</th>\n",
              "      <td>-46.731403</td>\n",
              "      <td>74.691437</td>\n",
              "      <td>1</td>\n",
              "    </tr>\n",
              "    <tr>\n",
              "      <th>2</th>\n",
              "      <td>-4.305829</td>\n",
              "      <td>28.534742</td>\n",
              "      <td>3</td>\n",
              "    </tr>\n",
              "    <tr>\n",
              "      <th>3</th>\n",
              "      <td>-31.514971</td>\n",
              "      <td>46.322063</td>\n",
              "      <td>3</td>\n",
              "    </tr>\n",
              "    <tr>\n",
              "      <th>4</th>\n",
              "      <td>-18.946953</td>\n",
              "      <td>-2.017460</td>\n",
              "      <td>0</td>\n",
              "    </tr>\n",
              "  </tbody>\n",
              "</table>\n",
              "</div>"
            ],
            "text/plain": [
              "        dim1       dim2  clusterNums\n",
              "0 -60.353527  11.661450            1\n",
              "1 -46.731403  74.691437            1\n",
              "2  -4.305829  28.534742            3\n",
              "3 -31.514971  46.322063            3\n",
              "4 -18.946953  -2.017460            0"
            ]
          },
          "metadata": {
            "tags": []
          },
          "execution_count": 50
        }
      ]
    },
    {
      "cell_type": "code",
      "metadata": {
        "id": "USIfN_jSgn01",
        "colab_type": "code",
        "outputId": "66ce16bb-455a-41ca-9d6c-389a2c81a89a",
        "colab": {
          "base_uri": "https://localhost:8080/",
          "height": 298
        }
      },
      "source": [
        "sns.scatterplot(x=\"dim1\", y=\"dim2\", hue=\"clusterNums\", data=tsne_DF,palette=['green','red','orange','dodgerblue'])\n",
        "plt.title('t-SNE clustering of Sleep Data',fontsize=20);"
      ],
      "execution_count": 0,
      "outputs": [
        {
          "output_type": "display_data",
          "data": {
            "image/png": "[encoded data removed]",
            "text/plain": [
              "<Figure size 432x288 with 1 Axes>"
            ]
          },
          "metadata": {
            "tags": [],
            "needs_background": "light"
          }
        }
      ]
    },
    {
      "cell_type": "markdown",
      "metadata": {
        "id": "d7cT6F8ve6df",
        "colab_type": "text"
      },
      "source": [
        "So the graph above shows that my data plotted using tSNE doesnt have much variations.This means that most people who particiated in this sleep research most likely fall into the same clusters."
      ]
    },
    {
      "cell_type": "markdown",
      "metadata": {
        "id": "0QUvYckqgjnU",
        "colab_type": "text"
      },
      "source": [
        "## Distribution of Gender among tSNE clusters "
      ]
    },
    {
      "cell_type": "code",
      "metadata": {
        "id": "ZvxlvPAte8mh",
        "colab_type": "code",
        "outputId": "679d8aa8-8804-493d-8d41-056f559b32b9",
        "colab": {
          "base_uri": "https://localhost:8080/",
          "height": 190
        }
      },
      "source": [
        "tsne_DF1 = pd.concat([tsne_DF,cdf['Gender']],axis=1)\n",
        "df_gender = tsne_DF1.groupby(['clusterNums','Gender']).size().unstack(level= -1).reset_index()\n",
        "df_gender.head()"
      ],
      "execution_count": 0,
      "outputs": [
        {
          "output_type": "execute_result",
          "data": {
            "text/html": [
              "<div>\n",
              "<style scoped>\n",
              "    .dataframe tbody tr th:only-of-type {\n",
              "        vertical-align: middle;\n",
              "    }\n",
              "\n",
              "    .dataframe tbody tr th {\n",
              "        vertical-align: top;\n",
              "    }\n",
              "\n",
              "    .dataframe thead th {\n",
              "        text-align: right;\n",
              "    }\n",
              "</style>\n",
              "<table border=\"1\" class=\"dataframe\">\n",
              "  <thead>\n",
              "    <tr style=\"text-align: right;\">\n",
              "      <th>Gender</th>\n",
              "      <th>clusterNums</th>\n",
              "      <th>Female</th>\n",
              "      <th>Male</th>\n",
              "    </tr>\n",
              "  </thead>\n",
              "  <tbody>\n",
              "    <tr>\n",
              "      <th>0</th>\n",
              "      <td>0</td>\n",
              "      <td>13.0</td>\n",
              "      <td>34.0</td>\n",
              "    </tr>\n",
              "    <tr>\n",
              "      <th>1</th>\n",
              "      <td>1</td>\n",
              "      <td>1.0</td>\n",
              "      <td>10.0</td>\n",
              "    </tr>\n",
              "    <tr>\n",
              "      <th>2</th>\n",
              "      <td>2</td>\n",
              "      <td>NaN</td>\n",
              "      <td>4.0</td>\n",
              "    </tr>\n",
              "    <tr>\n",
              "      <th>3</th>\n",
              "      <td>3</td>\n",
              "      <td>2.0</td>\n",
              "      <td>14.0</td>\n",
              "    </tr>\n",
              "  </tbody>\n",
              "</table>\n",
              "</div>"
            ],
            "text/plain": [
              "Gender  clusterNums  Female  Male\n",
              "0                 0    13.0  34.0\n",
              "1                 1     1.0  10.0\n",
              "2                 2     NaN   4.0\n",
              "3                 3     2.0  14.0"
            ]
          },
          "metadata": {
            "tags": []
          },
          "execution_count": 52
        }
      ]
    },
    {
      "cell_type": "code",
      "metadata": {
        "id": "xjwnX814AJAS",
        "colab_type": "code",
        "outputId": "d2ff79c3-ff4e-4aa4-8502-a27ef099da7a",
        "colab": {
          "base_uri": "https://localhost:8080/",
          "height": 52
        }
      },
      "source": [
        "plt.figure(figsize=[8,6])\n",
        "sns.scatterplot(x=\"dim1\", y=\"dim2\", hue=\"Gender\", data=tsne_DF1,palette=['orange','dodgerblue'])\n",
        "plt.ylabel('Dim2',fontsize=15)\n",
        "plt.xlabel('Dim1',fontsize=15)\n",
        "plt.title('Distribution of Sex by Cluster', fontsize=25);"
      ],
      "execution_count": 0,
      "outputs": [
        {
          "output_type": "display_data",
          "data": {
            "image/png": "[encoded data removed]",
            "text/plain": [
              "<Figure size 576x432 with 1 Axes>"
            ]
          },
          "metadata": {
            "tags": [],
            "needs_background": "light"
          }
        }
      ]
    },
    {
      "cell_type": "code",
      "metadata": {
        "id": "beFlKp2xfoN1",
        "colab_type": "code",
        "outputId": "8333e29f-6aec-4304-ff0b-c24348ce5ac9",
        "colab": {
          "base_uri": "https://localhost:8080/",
          "height": 52
        }
      },
      "source": [
        "df_gender.plot.bar(x='clusterNums', stacked=True)\n",
        "plt.legend(bbox_to_anchor=(1.05, 1), loc='upper left', borderaxespad=0.)\n",
        "plt.ylabel('Total Subjects per Cluster', fontsize=15)\n",
        "plt.xlabel('ClusterNums', fontsize=15)\n",
        "plt.title('Distribution of Sex by Cluster', fontsize=25);"
      ],
      "execution_count": 0,
      "outputs": [
        {
          "output_type": "display_data",
          "data": {
            "image/png": "[encoded data removed]",
            "text/plain": [
              "<Figure size 432x288 with 1 Axes>"
            ]
          },
          "metadata": {
            "tags": [],
            "needs_background": "light"
          }
        }
      ]
    },
    {
      "cell_type": "markdown",
      "metadata": {
        "id": "wlReypX2hbcA",
        "colab_type": "text"
      },
      "source": [
        "The graphs above show the distribution of sex by cluster showing that the most females fell into cluster 0."
      ]
    },
    {
      "cell_type": "markdown",
      "metadata": {
        "id": "LiahThWlawdj",
        "colab_type": "text"
      },
      "source": [
        "## Distribution of Age in tSNE clusters"
      ]
    },
    {
      "cell_type": "code",
      "metadata": {
        "id": "0M_XO4oQiTx-",
        "colab_type": "code",
        "outputId": "f84e3fea-d60b-4b52-ff15-ba52c9437f61",
        "colab": {
          "base_uri": "https://localhost:8080/",
          "height": 170
        }
      },
      "source": [
        "tsne_DF2 = pd.concat([tsne_DF,cdf['Age']], axis=1)\n",
        "df_age = tsne_DF2.groupby(['clusterNums','Age']).size().unstack(level= -1).reset_index()\n",
        "df_age.head()"
      ],
      "execution_count": 0,
      "outputs": [
        {
          "output_type": "execute_result",
          "data": {
            "text/html": [
              "<div>\n",
              "<style scoped>\n",
              "    .dataframe tbody tr th:only-of-type {\n",
              "        vertical-align: middle;\n",
              "    }\n",
              "\n",
              "    .dataframe tbody tr th {\n",
              "        vertical-align: top;\n",
              "    }\n",
              "\n",
              "    .dataframe thead th {\n",
              "        text-align: right;\n",
              "    }\n",
              "</style>\n",
              "<table border=\"1\" class=\"dataframe\">\n",
              "  <thead>\n",
              "    <tr style=\"text-align: right;\">\n",
              "      <th>Age</th>\n",
              "      <th>clusterNums</th>\n",
              "      <th>18 to 24</th>\n",
              "      <th>25 to 34</th>\n",
              "      <th>35 to 44</th>\n",
              "      <th>45 to 54</th>\n",
              "      <th>55 to 64</th>\n",
              "    </tr>\n",
              "  </thead>\n",
              "  <tbody>\n",
              "    <tr>\n",
              "      <th>0</th>\n",
              "      <td>0</td>\n",
              "      <td>2.0</td>\n",
              "      <td>7.0</td>\n",
              "      <td>11.0</td>\n",
              "      <td>20.0</td>\n",
              "      <td>7.0</td>\n",
              "    </tr>\n",
              "    <tr>\n",
              "      <th>1</th>\n",
              "      <td>1</td>\n",
              "      <td>NaN</td>\n",
              "      <td>4.0</td>\n",
              "      <td>3.0</td>\n",
              "      <td>4.0</td>\n",
              "      <td>NaN</td>\n",
              "    </tr>\n",
              "    <tr>\n",
              "      <th>2</th>\n",
              "      <td>2</td>\n",
              "      <td>NaN</td>\n",
              "      <td>NaN</td>\n",
              "      <td>2.0</td>\n",
              "      <td>1.0</td>\n",
              "      <td>1.0</td>\n",
              "    </tr>\n",
              "    <tr>\n",
              "      <th>3</th>\n",
              "      <td>3</td>\n",
              "      <td>NaN</td>\n",
              "      <td>3.0</td>\n",
              "      <td>7.0</td>\n",
              "      <td>5.0</td>\n",
              "      <td>1.0</td>\n",
              "    </tr>\n",
              "  </tbody>\n",
              "</table>\n",
              "</div>"
            ],
            "text/plain": [
              "Age  clusterNums  18 to 24  25 to 34  35 to 44  45 to 54  55 to 64\n",
              "0              0       2.0       7.0      11.0      20.0       7.0\n",
              "1              1       NaN       4.0       3.0       4.0       NaN\n",
              "2              2       NaN       NaN       2.0       1.0       1.0\n",
              "3              3       NaN       3.0       7.0       5.0       1.0"
            ]
          },
          "metadata": {
            "tags": []
          },
          "execution_count": 55
        }
      ]
    },
    {
      "cell_type": "code",
      "metadata": {
        "id": "umNTtvOsicfC",
        "colab_type": "code",
        "outputId": "9370f2f8-08ab-45bd-c8ce-d8c1a45990ac",
        "colab": {
          "base_uri": "https://localhost:8080/",
          "height": 416
        }
      },
      "source": [
        "plt.figure(figsize=[8,6])\n",
        "sns.scatterplot(x=\"dim1\", y=\"dim2\", hue=\"Age\", data=tsne_DF2,palette=['red','orange','green','blue','purple'])\n",
        "plt.ylabel('Dim2',fontsize=15)\n",
        "plt.xlabel('Dim1',fontsize=15)\n",
        "plt.title('Distribution of Age by Cluster', fontsize=25);"
      ],
      "execution_count": 0,
      "outputs": [
        {
          "output_type": "display_data",
          "data": {
            "image/png": "[encoded data removed]",
            "text/plain": [
              "<Figure size 576x432 with 1 Axes>"
            ]
          },
          "metadata": {
            "tags": [],
            "needs_background": "light"
          }
        }
      ]
    },
    {
      "cell_type": "code",
      "metadata": {
        "id": "ppcOnWWd6w2N",
        "colab_type": "code",
        "outputId": "d95eab05-356b-4bc7-c8a0-222367d7ae54",
        "colab": {
          "base_uri": "https://localhost:8080/",
          "height": 304
        }
      },
      "source": [
        "df_age.plot.bar(x='clusterNums', stacked=True)\n",
        "plt.legend(bbox_to_anchor=(1.05, 1), loc='upper left', borderaxespad=0.)\n",
        "plt.ylabel('Total Subjects per Cluster', fontsize=15)\n",
        "plt.xlabel('ClusterNums', fontsize=15)\n",
        "plt.title('Distribution of Sex by Cluster', fontsize=25);"
      ],
      "execution_count": 0,
      "outputs": [
        {
          "output_type": "display_data",
          "data": {
            "image/png": "[encoded data removed]",
            "text/plain": [
              "<Figure size 432x288 with 1 Axes>"
            ]
          },
          "metadata": {
            "tags": [],
            "needs_background": "light"
          }
        }
      ]
    },
    {
      "cell_type": "markdown",
      "metadata": {
        "id": "AgeRD_NKbCbW",
        "colab_type": "text"
      },
      "source": [
        "The graphs above shows the distribution of age groups between the 4 clusters, showing that a majority of patients age 45-54 fell into cluster 0. "
      ]
    },
    {
      "cell_type": "markdown",
      "metadata": {
        "id": "HkDyOThaiwUM",
        "colab_type": "text"
      },
      "source": [
        "## Final Thoughts "
      ]
    },
    {
      "cell_type": "markdown",
      "metadata": {
        "id": "jhebAz2FiUhh",
        "colab_type": "text"
      },
      "source": [
        "After taking the data exploring, analyzing, and cleaning for cluster graphs I was able to find the distribution of demographics amongst clusters and show that the data clusters better in non-linear dimensions. For further analysis it would be interesting to see if data could be collect with a even gender demographics to see if clusters would correlate more between male and female. Also taking the sleep data and seeing how it relates to the reported sleep data and see if there is any differences."
      ]
    }
  ]
}