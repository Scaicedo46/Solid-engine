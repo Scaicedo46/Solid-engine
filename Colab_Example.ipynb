{
  "nbformat": 4,
  "nbformat_minor": 0,
  "metadata": {
    "colab": {
      "name": "Colab Example.ipynb",
      "provenance": [],
      "authorship_tag": "ABX9TyOPb8Ektf5kpJUZwcAUqZTJ",
      "include_colab_link": true
    },
    "kernelspec": {
      "name": "python3",
      "display_name": "Python 3"
    }
  },
  "cells": [
    {
      "cell_type": "markdown",
      "metadata": {
        "id": "view-in-github",
        "colab_type": "text"
      },
      "source": [
        "<a href=\"https://colab.research.google.com/github/Scaicedo46/Solid-engine/blob/master/Colab_Example.ipynb\" target=\"_parent\"><img src=\"https://colab.research.google.com/assets/colab-badge.svg\" alt=\"Open In Colab\"/></a>"
      ]
    },
    {
      "cell_type": "markdown",
      "metadata": {
        "id": "9ByLYL__wMKq",
        "colab_type": "text"
      },
      "source": [
        "\n",
        "\n",
        "```\n",
        "`# This is formatted as code`\n",
        "```\n",
        "\n"
      ]
    },
    {
      "cell_type": "markdown",
      "metadata": {
        "id": "EkhhYirwwPj5",
        "colab_type": "text"
      },
      "source": [
        "this is a comment for the following block.\n",
        "\n",
        "Equation $\\sqrt{1- x^2}$\n",
        "\n",
        "\n"
      ]
    },
    {
      "cell_type": "code",
      "metadata": {
        "id": "00_2TK4nx6r0",
        "colab_type": "code",
        "colab": {
          "base_uri": "https://localhost:8080/",
          "height": 34
        },
        "outputId": "57c0cba0-d46e-43dd-b438-26fb9114439f"
      },
      "source": [
        "textString = \"This is a altered text prinout. \"\n",
        "print(textString)"
      ],
      "execution_count": 5,
      "outputs": [
        {
          "output_type": "stream",
          "text": [
            "This is a altered text prinout. \n"
          ],
          "name": "stdout"
        }
      ]
    },
    {
      "cell_type": "markdown",
      "metadata": {
        "id": "j-lZWBUkxKGL",
        "colab_type": "text"
      },
      "source": [
        "Second comment."
      ]
    },
    {
      "cell_type": "code",
      "metadata": {
        "id": "JhxLUXVux3GH",
        "colab_type": "code",
        "colab": {
          "base_uri": "https://localhost:8080/",
          "height": 34
        },
        "outputId": "6a805812-4eca-4b84-a3f6-ff272bc31cce"
      },
      "source": [
        "varString = \"Plus some other. \"\n",
        "print(textString + \" \" + varString)"
      ],
      "execution_count": 7,
      "outputs": [
        {
          "output_type": "stream",
          "text": [
            "This is a altered text prinout.  Plus some other. \n"
          ],
          "name": "stdout"
        }
      ]
    }
  ]
}